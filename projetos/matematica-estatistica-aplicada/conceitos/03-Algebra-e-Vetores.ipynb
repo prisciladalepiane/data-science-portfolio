{
 "cells": [
  {
   "cell_type": "markdown",
   "id": "8c97cffb",
   "metadata": {},
   "source": [
    "# Álgebra e Vetores"
   ]
  },
  {
   "cell_type": "markdown",
   "id": "0fefb79e",
   "metadata": {},
   "source": [
    "## Regras Básicas da Álgebra"
   ]
  },
  {
   "cell_type": "markdown",
   "id": "94783051",
   "metadata": {
    "vscode": {
     "languageId": "plaintext"
    }
   },
   "source": [
    "### Propriedades da Igualdade\n"
   ]
  },
  {
   "cell_type": "markdown",
   "id": "9a222186",
   "metadata": {},
   "source": [
    "1. **Reflexiva**  \n",
    "   Qualquer valor é igual a si mesmo:  \n",
    "   $ a = a $\n",
    "\n",
    "2. **Simétrica**  \n",
    "   Se $a = b$, então $b = a$\n",
    "   A ordem dos lados pode ser invertida.\n",
    "\n",
    "3. **Transitiva**  \n",
    "   Se $a = b$ e $b = c$, então $ a = c $"
   ]
  },
  {
   "cell_type": "code",
   "execution_count": 39,
   "id": "27981079",
   "metadata": {},
   "outputs": [
    {
     "name": "stdout",
     "output_type": "stream",
     "text": [
      "True\n"
     ]
    }
   ],
   "source": [
    "# Reflexiva\n",
    "a = 5\n",
    "print(a==a)"
   ]
  },
  {
   "cell_type": "code",
   "execution_count": 40,
   "id": "2122586e",
   "metadata": {},
   "outputs": [
    {
     "name": "stdout",
     "output_type": "stream",
     "text": [
      "True\n",
      "True\n"
     ]
    }
   ],
   "source": [
    "# Simetrica\n",
    "a = 10\n",
    "b = 10\n",
    "print(a==b) \n",
    "print(b==a)"
   ]
  },
  {
   "cell_type": "code",
   "execution_count": 41,
   "id": "3d83baec",
   "metadata": {},
   "outputs": [
    {
     "name": "stdout",
     "output_type": "stream",
     "text": [
      "True\n",
      "True\n"
     ]
    }
   ],
   "source": [
    "# Trasitiva\n",
    "a = 5 \n",
    "b = 5\n",
    "c = 5\n",
    "print(a==b and b==c)\n",
    "print(a==c)"
   ]
  },
  {
   "cell_type": "markdown",
   "id": "1437400f",
   "metadata": {},
   "source": [
    "### Propriedades das Operações\n"
   ]
  },
  {
   "cell_type": "markdown",
   "id": "c3fe7a7e",
   "metadata": {},
   "source": [
    "1. **Propriedade Comutativa**\n",
    "   - A ordem dos termos não altera o resultado (válido para soma e multiplicação).\n",
    "   - Exemplo:  \n",
    "     $a + b = b + a$  \n",
    "     $a \\cdot b = b \\cdot a$\n",
    "\n",
    "2. **Propriedade Associativa**\n",
    "   - A forma de agrupar os termos não altera o resultado (válido para soma e multiplicação).\n",
    "   - Exemplo:  \n",
    "     $(a + b) + c = a + (b + c)$  \n",
    "     $(a \\cdot b) \\cdot c = a \\cdot (b \\cdot c)$\n",
    "\n",
    "3. **Propriedade Distributiva**\n",
    "   - Multiplicar um número por uma soma ou subtração é o mesmo que multiplicar cada parcela separadamente e depois somar.\n",
    "   - Exemplo:  \n",
    "     $a \\cdot (b + c) = a \\cdot b + a \\cdot c$\n",
    "\n",
    "4. **Elemento Neutro**\n",
    "   - Soma: o número 0 é o neutro (não altera o valor).  \n",
    "     $a + 0 = a$\n",
    "   - Multiplicação: o número 1 é o neutro.  \n",
    "     $a \\cdot 1 = a$\n",
    "\n",
    "5. **Elemento Inverso**\n",
    "   - Soma: o inverso de $a$ é $-a$ (sua soma dá 0).  \n",
    "     $a + (-a) = 0$\n",
    "   - Multiplicação: o inverso de $a$ (≠ 0) é $\\frac{1}{a}$.  \n",
    "     $a \\cdot \\frac{1}{a} = 1$\n"
   ]
  },
  {
   "cell_type": "markdown",
   "id": "3d9b4317",
   "metadata": {},
   "source": [
    "### Regras da Exponenciação"
   ]
  },
  {
   "cell_type": "markdown",
   "id": "ed3778eb",
   "metadata": {},
   "source": [
    "1. **Produto de potências com mesma base**  \n",
    "   Some os expoentes:  \n",
    "   $a^m \\cdot a^n = a^{m+n}$\n",
    "\n",
    "2. **Divisão de potências com mesma base**  \n",
    "   Subtraia os expoentes:  \n",
    "   $\\frac{a^m}{a^n} = a^{m-n}$\n",
    "\n",
    "3. **Potência de uma potência**  \n",
    "   Multiplique os expoentes:  \n",
    "   $(a^m)^n = a^{m \\cdot n}$\n",
    "\n",
    "4. **Potência de um produto**  \n",
    "   A potência se distribui entre os fatores:  \n",
    "   $(a \\cdot b)^n = a^n \\cdot b^n$\n",
    "\n",
    "5. **Potência de um quociente**  \n",
    "   A potência se distribui entre numerador e denominador:  \n",
    "   $\\left(\\frac{a}{b}\\right)^n = \\frac{a^n}{b^n}$\n",
    "\n",
    "6. **Expoente zero**  \n",
    "   Qualquer número diferente de zero elevado a zero é 1:  \n",
    "   $a^0 = 1 \\quad (a \\neq 0)$\n",
    "\n",
    "7. **Expoente negativo**  \n",
    "   Torna-se o inverso da base elevada ao expoente positivo:  \n",
    "   $a^{-n} = \\frac{1}{a^n} \\quad (a \\neq 0)$\n",
    "\n",
    "8. **Base 1 ou 0**  \n",
    "   - $1^n = 1$ para qualquer $n$  \n",
    "   - $0^n = 0$ para $n > 0$\n"
   ]
  },
  {
   "cell_type": "markdown",
   "id": "24ac7db2",
   "metadata": {},
   "source": [
    "### Regras dos Radicais"
   ]
  },
  {
   "cell_type": "markdown",
   "id": "6b675516",
   "metadata": {},
   "source": [
    "\n",
    "1. **Produto de radicais com o mesmo índice**  \n",
    "   $\\sqrt[n]{a} \\cdot \\sqrt[n]{b} = \\sqrt[n]{a \\cdot b}$\n",
    "\n",
    "2. **Quociente de radicais com o mesmo índice**  \n",
    "   $\\frac{\\sqrt[n]{a}}{\\sqrt[n]{b}} = \\sqrt[n]{\\frac{a}{b}} \\quad (b \\neq 0)$\n",
    "\n",
    "3. **Radiciação de uma potência**  \n",
    "   $\\sqrt[n]{a^m} = a^{\\frac{m}{n}}$\n",
    "\n",
    "4. **Potência de um radical**  \n",
    "   $(\\sqrt[n]{a})^m = a^{\\frac{m}{n}}$\n",
    "\n",
    "5. **Radical de radical (radiciação composta)**  \n",
    "   $\\sqrt[m]{\\sqrt[n]{a}} = \\sqrt[m \\cdot n]{a} = a^{\\frac{1}{mn}}$\n",
    "\n",
    "6. **Radical de 1**  \n",
    "   $\\sqrt[n]{1} = 1$ para qualquer $n \\neq 0$\n",
    "\n",
    "7. **Simplificação de radicais (se possível)**  \n",
    "   $\\sqrt{a^2} = |a|$ (raiz quadrada sempre retorna valor positivo)\n",
    "\n",
    "Onde:  \n",
    " - $a, b > 0$  \n",
    " - $n, m$ são naturais com $n, m \\geq 2$\n"
   ]
  }
 ],
 "metadata": {
  "kernelspec": {
   "display_name": "Python 3",
   "language": "python",
   "name": "python3"
  },
  "language_info": {
   "codemirror_mode": {
    "name": "ipython",
    "version": 3
   },
   "file_extension": ".py",
   "mimetype": "text/x-python",
   "name": "python",
   "nbconvert_exporter": "python",
   "pygments_lexer": "ipython3",
   "version": "3.10.12"
  }
 },
 "nbformat": 4,
 "nbformat_minor": 5
}
