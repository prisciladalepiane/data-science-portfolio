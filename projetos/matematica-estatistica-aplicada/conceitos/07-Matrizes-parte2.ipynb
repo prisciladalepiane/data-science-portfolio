{
 "cells": [
  {
   "cell_type": "markdown",
   "id": "33ef716d",
   "metadata": {},
   "source": [
    "# Matrizes"
   ]
  },
  {
   "cell_type": "code",
   "execution_count": 2,
   "id": "890b35b5",
   "metadata": {},
   "outputs": [],
   "source": [
    "# Imports\n",
    "import numpy as np\n",
    "import sympy as sym"
   ]
  },
  {
   "cell_type": "markdown",
   "id": "9395b981",
   "metadata": {},
   "source": [
    "## Transposta de matriz com Numpy"
   ]
  },
  {
   "cell_type": "code",
   "execution_count": 5,
   "id": "690ddd1e",
   "metadata": {},
   "outputs": [],
   "source": [
    "m = np.array([[1,2,3,4], [5,6,7,8], [9,10,11,12]])\n",
    "m_t = m.T"
   ]
  },
  {
   "cell_type": "code",
   "execution_count": 6,
   "id": "2c77abd2",
   "metadata": {},
   "outputs": [
    {
     "name": "stdout",
     "output_type": "stream",
     "text": [
      "Matriz Original:\n",
      "[[ 1  2  3  4]\n",
      " [ 5  6  7  8]\n",
      " [ 9 10 11 12]]\n",
      "\n",
      "Matriz Transposta:\n",
      "[[ 1  5  9]\n",
      " [ 2  6 10]\n",
      " [ 3  7 11]\n",
      " [ 4  8 12]]\n"
     ]
    }
   ],
   "source": [
    "print(\"Matriz Original:\")\n",
    "print(m)\n",
    "print(\"\\nMatriz Transposta:\")\n",
    "print(m_t)"
   ]
  },
  {
   "cell_type": "markdown",
   "id": "5dd0372c",
   "metadata": {},
   "source": [
    "Atenção: ao alterar um valor na matriz transposta salva, o valor é alterado também na matriz original."
   ]
  },
  {
   "cell_type": "code",
   "execution_count": 7,
   "id": "1b34fefc",
   "metadata": {},
   "outputs": [
    {
     "name": "stdout",
     "output_type": "stream",
     "text": [
      "Matriz Transposta:\n",
      "[[  1   5 200]\n",
      " [  2   6  10]\n",
      " [  3   7  11]\n",
      " [  4   8  12]]\n",
      "Matriz Original:\n",
      "[[  1   2   3   4]\n",
      " [  5   6   7   8]\n",
      " [200  10  11  12]]\n"
     ]
    }
   ],
   "source": [
    "m_t[0, 2] = 200\n",
    "print(\"Matriz Transposta:\")\n",
    "print(m_t)\n",
    "\n",
    "print(\"Matriz Original:\")\n",
    "print(m)"
   ]
  },
  {
   "cell_type": "markdown",
   "id": "830fdeb7",
   "metadata": {},
   "source": [
    "Para evitar que altere a matriz original, usa-se `.copy()`"
   ]
  },
  {
   "cell_type": "code",
   "execution_count": 9,
   "id": "4d1ca3db",
   "metadata": {},
   "outputs": [],
   "source": [
    "m_t = m.T.copy()"
   ]
  },
  {
   "cell_type": "code",
   "execution_count": 10,
   "id": "ef5c1a9c",
   "metadata": {},
   "outputs": [
    {
     "name": "stdout",
     "output_type": "stream",
     "text": [
      "Matriz Transposta:\n",
      "[[ 1  5 29]\n",
      " [ 2  6 10]\n",
      " [ 3  7 11]\n",
      " [ 4  8 12]]\n",
      "Matriz Original:\n",
      "[[  1   2   3   4]\n",
      " [  5   6   7   8]\n",
      " [200  10  11  12]]\n"
     ]
    }
   ],
   "source": [
    "m_t[0, 2] = 29\n",
    "\n",
    "print(\"Matriz Transposta:\")\n",
    "print(m_t)\n",
    "print(\"Matriz Original:\")\n",
    "print(m)"
   ]
  },
  {
   "cell_type": "markdown",
   "id": "d4d4d7cb",
   "metadata": {},
   "source": [
    "### Exemplo do uso da transposta em Algoritmos de redes neurais"
   ]
  },
  {
   "cell_type": "code",
   "execution_count": 15,
   "id": "076c8859",
   "metadata": {},
   "outputs": [
    {
     "data": {
      "text/plain": [
       "(1, 4)"
      ]
     },
     "execution_count": 15,
     "metadata": {},
     "output_type": "execute_result"
    }
   ],
   "source": [
    "inputs = np.array([[-0.24, 0.52, 0.13, 0.27]])\n",
    "inputs.shape"
   ]
  },
  {
   "cell_type": "code",
   "execution_count": 20,
   "id": "ba0e2cda",
   "metadata": {},
   "outputs": [
    {
     "name": "stdout",
     "output_type": "stream",
     "text": [
      "[[ 0.02   0.001 -0.03   0.036]\n",
      " [ 0.01   0.02   0.03  -0.04 ]\n",
      " [-0.02   0.03   0.01   0.02 ]]\n"
     ]
    },
    {
     "data": {
      "text/plain": [
       "(3, 4)"
      ]
     },
     "execution_count": 20,
     "metadata": {},
     "output_type": "execute_result"
    }
   ],
   "source": [
    "pesos = np.array([[0.02, 0.001, -0.03, 0.036], \n",
    "                 [0.01, 0.02, 0.03, -0.04], \n",
    "                 [-0.02, 0.03, 0.01, 0.02]])\n",
    "print(pesos)\n",
    "pesos.shape"
   ]
  },
  {
   "cell_type": "markdown",
   "id": "1f2a9fdf",
   "metadata": {},
   "source": [
    "Os pesos são multiplicados aos inputs nas camadas das redes neurais, logo precisamos multiplicar pesos por inputs. \n",
    "\n",
    "Para multiplicar pelo pelos pesos é necessário fazer a transposta da matriz para que o shape das matrizes sejam compatíveis."
   ]
  },
  {
   "cell_type": "code",
   "execution_count": 24,
   "metadata": {},
   "outputs": [
    {
     "data": {
      "text/plain": [
       "array([[0.00154, 0.0011 , 0.0271 ]])"
      ]
     },
     "execution_count": 24,
     "metadata": {},
     "output_type": "execute_result"
    }
   ],
   "source": [
    "np.matmul(inputs, pesos.T)"
   ]
  },
  {
   "cell_type": "markdown",
   "id": "95992edd",
   "metadata": {},
   "source": [
    "Também funciona com a transposta da matriz de inputs trocando a ordem dos fatores:"
   ]
  },
  {
   "cell_type": "code",
   "execution_count": 25,
   "id": "414eca4b",
   "metadata": {},
   "outputs": [
    {
     "data": {
      "text/plain": [
       "array([[0.00154],\n",
       "       [0.0011 ],\n",
       "       [0.0271 ]])"
      ]
     },
     "execution_count": 25,
     "metadata": {},
     "output_type": "execute_result"
    }
   ],
   "source": [
    "np.matmul(pesos, inputs.T)"
   ]
  },
  {
   "cell_type": "markdown",
   "id": "b577bd28",
   "metadata": {},
   "source": [
    "## Determinante de Matriz"
   ]
  },
  {
   "cell_type": "markdown",
   "id": "0a72ef2a",
   "metadata": {},
   "source": [
    "\n",
    "O determinante de uma matriz é um valor que pode ser calculado a partir dos elementos de uma matriz quadrada.\n",
    "\n",
    "Este valor é muito importante em diversas áreas da Matemática e Ciência de Dados, pois possui várias aplicações práticas e teóricas.\n",
    "\n",
    "### Matriz 2×2\n",
    "\n",
    "Dada a matriz:\n",
    "\n",
    "$$\n",
    "A = \\begin{bmatrix}\n",
    "a & b \\\\\n",
    "c & d\n",
    "\\end{bmatrix}\n",
    "$$\n",
    "\n",
    "O determinante é calculado como:\n",
    "\n",
    "$$\n",
    "\\det(A) = ad - bc\n",
    "$$\n",
    "\n",
    "### Propriedades\n",
    "\n",
    "- O determinante de uma matriz identidade é sempre 1.\n",
    "\n",
    "- Multiplicar uma linha de uma matriz por um escalar multiplica o determinante pelo mesmo escalar.\n",
    "\n",
    "- Se você trocar duas linhas de uma matriz, o determinante muda de sinal.\n",
    "\n",
    "- O determinante de uma matriz é zero se as linhas ou colunas são linearmente dependentes (ou seja, uma linha ou coluna pode ser expressa como uma combinação linear das outras).\n",
    "\n",
    "\n",
    "### Aplicações em Matrizes\n",
    "\n",
    "- **Inversão de Matriz**: Uma matriz quadrada é invertível se e apenas se seu determinante não é zero.\n",
    "\n",
    "- **Solução de Sistemas Lineares**: O método de Cramer usa determinantes para resolver sistemas de equações lineares.\n",
    "\n",
    "- **Geometria**: O determinante pode ser usado para calcular a área (em 2D) ou volume (em 3D) de formas geométricas definidas por pontos.\n",
    "\n",
    "\n",
    "### Cálculo de Matrizes Maiores\n",
    "\n",
    "Para matrizes maiores que 3x3, o cálculo do determinante envolve a decomposição da matriz em matrizes menores (método de expansão por cofatores) ou utilizando operações de linha para transformá-la em uma forma mais simples (como a forma escalonada)."
   ]
  },
  {
   "cell_type": "markdown",
   "id": "74d0f55b",
   "metadata": {},
   "source": [
    "### Calculando Determinante com NumPy e SymPy\n",
    "\n",
    "Usando NumPy:"
   ]
  },
  {
   "cell_type": "code",
   "execution_count": 37,
   "id": "9441c145",
   "metadata": {},
   "outputs": [],
   "source": [
    "# matrix 2x2\n",
    "ma = np.array([[1, 3], [3, 3]])"
   ]
  },
  {
   "cell_type": "code",
   "execution_count": 38,
   "id": "7ff20b2d",
   "metadata": {},
   "outputs": [
    {
     "name": "stdout",
     "output_type": "stream",
     "text": [
      "-6.0\n"
     ]
    }
   ],
   "source": [
    "det_1 = np.linalg.det(ma)\n",
    "print(det_1)"
   ]
  },
  {
   "cell_type": "markdown",
   "id": "9083d9ae",
   "metadata": {},
   "source": [
    "Usando o SymPy:"
   ]
  },
  {
   "cell_type": "code",
   "execution_count": null,
   "id": "9c37f0f4",
   "metadata": {},
   "outputs": [
    {
     "name": "stdout",
     "output_type": "stream",
     "text": [
      "-6\n"
     ]
    }
   ],
   "source": [
    "ma_sym = sym.Matrix(ma)\n",
    "det_2 = ma_sym.det()\n",
    "print(det_2)"
   ]
  },
  {
   "cell_type": "markdown",
   "id": "896c932f",
   "metadata": {},
   "source": [
    "Fórmula do determinante:"
   ]
  },
  {
   "cell_type": "code",
   "execution_count": 42,
   "id": "e5368c22",
   "metadata": {},
   "outputs": [
    {
     "name": "stdout",
     "output_type": "stream",
     "text": [
      "Matriz A:\n",
      "[['a' 'b']\n",
      " ['c' 'd']]\n"
     ]
    }
   ],
   "source": [
    "A = np.array([['a', 'b'], ['c', 'd']])\n",
    "print(\"Matriz A:\")\n",
    "print(A)"
   ]
  },
  {
   "cell_type": "markdown",
   "id": "34957dd0",
   "metadata": {},
   "source": [
    "A Fórmula para o determinante de uma matriz 2x2 é:\n",
    "\n",
    "Det(A) = ad - bc"
   ]
  },
  {
   "cell_type": "code",
   "execution_count": 44,
   "id": "caa79b03",
   "metadata": {},
   "outputs": [
    {
     "name": "stdout",
     "output_type": "stream",
     "text": [
      "[[1 2]\n",
      " [3 4]]\n"
     ]
    }
   ],
   "source": [
    "matriz = np.array([[1, 2], [3, 4]])\n",
    "print(matriz)"
   ]
  },
  {
   "cell_type": "code",
   "execution_count": 45,
   "id": "c27e5ff5",
   "metadata": {},
   "outputs": [
    {
     "name": "stdout",
     "output_type": "stream",
     "text": [
      "-2\n"
     ]
    }
   ],
   "source": [
    "det_3 = (1 * 4) - (2 * 3)\n",
    "print(det_3)"
   ]
  },
  {
   "cell_type": "markdown",
   "id": "514da6bb",
   "metadata": {},
   "source": [
    "Fórmula para outras dimensões:\n",
    "\n",
    "https://www.mathsisfun.com/algebra/matrix-determinant.html"
   ]
  },
  {
   "cell_type": "markdown",
   "id": "af2f3d7e",
   "metadata": {},
   "source": [
    "## Matriz Inversa\n",
    "\n",
    "A matriz inversa é uma matriz que quando multiplicada por uma matriz resulta na matriz identidade.\n",
    "\n",
    "Seja $A$ uma matriz quadrada de ordem $n$. Dizemos que uma matriz $A^{-1}$ é a **inversa de $A$** se:\n",
    "\n",
    "$$\n",
    "A \\cdot A^{-1} = A^{-1} \\cdot A = I_n\n",
    "$$\n",
    "\n",
    "Onde:\n",
    "\n",
    "- $A$ é uma matriz quadrada $n \\times n$\n",
    "- $A^{-1}$ é a matriz inversa de $A$\n",
    "- $I_n$ é a matriz identidade de ordem $n$\n",
    "\n",
    "\n",
    "Observações:\n",
    "\n",
    "A inversa de uma matriz só existe se a matriz é não-singular, ou seja, se o determinante da matriz é diferente de zero.\n",
    "\n",
    "Se o determinante de uma matriz é zero, ela não tem inversa.\n",
    "\n",
    "- Nem toda matriz possui inversa.\n",
    "- Se $\\det(A) = 0$, dizemos que $A$ é **singular** e **não possui inversa**.\n",
    "- A inversa de uma matriz é única.\n",
    "- Se $A^{-1}$ existe, então:\n",
    "\n",
    "$$\n",
    "(A^{-1})^{-1} = A\n",
    "$$\n",
    "\n",
    "$$\n",
    "(A^T)^{-1} = (A^{-1})^T\n",
    "$$\n",
    "\n",
    "$$\n",
    "(AB)^{-1} = B^{-1} A^{-1}\n",
    "$$"
   ]
  },
  {
   "cell_type": "code",
   "execution_count": 46,
   "id": "412bcf85",
   "metadata": {},
   "outputs": [
    {
     "data": {
      "text/plain": [
       "array([[1, 2],\n",
       "       [3, 4]])"
      ]
     },
     "execution_count": 46,
     "metadata": {},
     "output_type": "execute_result"
    }
   ],
   "source": [
    "matriz"
   ]
  },
  {
   "cell_type": "code",
   "execution_count": 48,
   "id": "13ffcf8a",
   "metadata": {},
   "outputs": [
    {
     "data": {
      "text/plain": [
       "array([[-2. ,  1. ],\n",
       "       [ 1.5, -0.5]])"
      ]
     },
     "execution_count": 48,
     "metadata": {},
     "output_type": "execute_result"
    }
   ],
   "source": [
    "inversa = np.linalg.inv(matriz)\n",
    "inversa"
   ]
  },
  {
   "cell_type": "code",
   "execution_count": 49,
   "id": "cbc12785",
   "metadata": {},
   "outputs": [
    {
     "data": {
      "text/plain": [
       "array([[1., 2.],\n",
       "       [3., 4.]])"
      ]
     },
     "execution_count": 49,
     "metadata": {},
     "output_type": "execute_result"
    }
   ],
   "source": [
    "np.linalg.inv(inversa)"
   ]
  },
  {
   "cell_type": "markdown",
   "id": "0e603462",
   "metadata": {},
   "source": [
    "#### Quando Usamos Matriz Inversa em Machine Learning?\n",
    "\n",
    "A matriz inversa é usada em aprendizado de máquina (Machine Learning) principalmente nos seguintes contextos:\n",
    "\n",
    "**Regressão Linear**: Na regressão linear, um dos métodos para calcular os coeficientes (pesos) do modelo é através do método dos mínimos quadrados. Este método frequentemente envolve inverter uma matriz (a matriz X transposta multiplicada por X, onde X é a matriz de características). A inversão desta matriz permite resolver a equação normal para encontrar os coeficientes que minimizam o erro do modelo.\n",
    "\n",
    "**Regularização**: Em alguns casos, como na regressão ridge ou LASSO, a inversão de matrizes é parte do processo de regularização. A regularização é usada para evitar o sobreajuste (overfitting) adicionando uma penalidade ao tamanho dos coeficientes. Na regressão ridge, por exemplo, a inversão de matrizes é usada para calcular os coeficientes de forma que eles sejam penalizados.\n",
    "\n",
    "**Análise de Componentes Principais (PCA)**: No PCA, que é uma técnica de redução de dimensionalidade, a inversão de matrizes é usada no cálculo dos autovalores e autovetores da matriz de covariância. Isso é essencial para identificar as direções (componentes principais) que capturam a maior variação nos dados.\n",
    "\n",
    "**Algoritmos Baseados em Distância**: Em algoritmos que usam medidas de distância, como o K-Nearest Neighbors (KNN) ou algoritmos de clustering, a inversão de matrizes pode ser usada em contextos específicos, como quando se ajusta uma métrica de distância ou se realiza uma transformação de características.\n",
    "\n",
    "**Redes Neurais**: Em redes neurais, a inversão de matrizes pode ser usada em algumas técnicas de otimização, como o método de Newton, embora métodos mais modernos geralmente utilizem gradientes e não requeiram inversão de matrizes.\n",
    "\n",
    "É importante notar que a inversão de matrizes pode ser computacionalmente custosa e, em alguns casos, pode levar a problemas de instabilidade numérica. Por isso, em prática, muitas vezes são usadas técnicas alternativas para evitar a inversão direta de matrizes, como a decomposição em valores singulares (SVD) ou métodos iterativos."
   ]
  },
  {
   "cell_type": "markdown",
   "id": "bbd592bc",
   "metadata": {},
   "source": [
    "## Escalonamento de Matrizes\n",
    "\n",
    "### O Que é Escalonamento de Matrizes?\n",
    "\n",
    "Escalonamento de matrizes é um processo usado na álgebra linear para transformar uma matriz em uma forma mais simples, conhecida como \"forma escalonada\".\n",
    "\n",
    "Este processo facilita a solução de sistemas de equações lineares, o cálculo do determinante, entre outras operações.\n",
    "\n",
    "Existem dois tipos principais de formas escalonadas:\n",
    "\n",
    "1. Forma Escalonada: Nesta forma, cada linha não-nula começa com um número de zeros que é pelo menos um a mais do que o número de zeros no início da linha acima dela. Além disso, todas as linhas que contêm apenas zeros, se houver, estão na parte inferior da matriz.\n",
    "2. Forma Escalonada Reduzida: É uma versão mais restrita da forma escalonada. Aqui, o primeiro número não-zero em cada linha não-nula (chamado de pivô) é 1, e este 1 é o único número não-zero em sua coluna.\n",
    "\n",
    "O processo de escalonamento envolve o uso de operações elementares de linha, que são:\n",
    "\n",
    "- Trocar a posição de duas linhas.\n",
    "- Multiplicar todos os elementos de uma linha por um número não-nulo.\n",
    "- Adicionar a uma linha um múltiplo de outra linha.\n",
    "\n",
    "Considere a seguinte matriz:\n",
    "\n",
    "$$\n",
    "A = \\begin{bmatrix}\n",
    "1 & 2 & -1 \\\\\n",
    "2 & 3 & 1 \\\\\n",
    "-1 & 0 & 2 \\\\\n",
    "\\end{bmatrix}\n",
    "$$\n",
    "\n",
    "Vamos aplicar operações elementares para escaloná-la:\n",
    "\n",
    "- Passo 1: Eliminar os elementos abaixo do pivô da 1ª coluna\n",
    "\n",
    "Usamos a 1ª linha como pivô. Para zerar o elemento na posição (2,1):\n",
    "\n",
    "$$\n",
    "L_2 \\leftarrow L_2 - 2L_1\n",
    "$$\n",
    "\n",
    "$$\n",
    "\\begin{bmatrix}\n",
    "1 & 2 & -1 \\\\\n",
    "0 & -1 & 3 \\\\\n",
    "-1 & 0 & 2 \\\\\n",
    "\\end{bmatrix}\n",
    "$$\n",
    "\n",
    "Agora, para zerar o elemento na posição (3,1):\n",
    "\n",
    "$$\n",
    "L_3 \\leftarrow L_3 + L_1\n",
    "$$\n",
    "\n",
    "$$\n",
    "\\begin{bmatrix}\n",
    "1 & 2 & -1 \\\\\n",
    "0 & -1 & 3 \\\\\n",
    "0 & 2 & 1 \\\\\n",
    "\\end{bmatrix}\n",
    "$$\n",
    "\n",
    "- Passo 2: Eliminar o elemento abaixo do pivô da 2ª coluna\n",
    "\n",
    "Usamos a 2ª linha como pivô. Para zerar o elemento na posição (3,2):\n",
    "\n",
    "$$\n",
    "L_3 \\leftarrow L_3 + 2L_2\n",
    "$$\n",
    "\n",
    "$$\n",
    "\\begin{bmatrix}\n",
    "1 & 2 & -1 \\\\\n",
    "0 & -1 & 3 \\\\\n",
    "0 & 0 & 7 \\\\\n",
    "\\end{bmatrix}\n",
    "$$\n",
    "\n",
    "Agora a matriz está na **forma escalonada**, com zeros abaixo da diagonal principal.\n",
    "\n",
    " Observações\n",
    "\n",
    "- As operações elementares permitidas são:\n",
    "  - Trocar duas linhas.\n",
    "  - Multiplicar uma linha por um número diferente de zero.\n",
    "  - Somar/subtrair múltiplos de linhas.\n",
    "\n",
    "- O objetivo do escalonamento é facilitar operações como:\n",
    "  - Resolução de sistemas lineares pelo método de Gauss.\n",
    "  - Cálculo de determinante.\n",
    "  - Cálculo de matriz inversa."
   ]
  },
  {
   "cell_type": "markdown",
   "id": "6375d49f",
   "metadata": {},
   "source": [
    "### Resolvendo Sistema de Equações Lineares com Eliminação Gaussiana em Python\n",
    "\n",
    "Aqui está um exemplo de código Python que usa o pacote NumPy para escalonar uma matriz e resolver um sistema de equações lineares usando o método de eliminação gaussiana. Antes criaremos o processo manualmente.\n",
    "\n",
    "Este método consiste em transformar o sistema de equações em uma forma escalonada ou reduzida (matriz triangular superior) por meio de operações elementares nas linhas e depois resolver as equações de cima para baixo.\n",
    "\n",
    "Considere o dataset abaixo como um exemplo didático:\n",
    "\n",
    "Dados originais:\n",
    "\n",
    "- Idade, Salario, Número de Filhos, Número de Anos Para Promoção\n",
    "- 34, 10000, 2, 1\n",
    "- 42, 12000, 3, 3\n",
    "- 27, 8000, 5, 9\n",
    "\n",
    "\n",
    "Dados normalizados:\n",
    "\n",
    "- Idade, Salario, Número de Filhos, Número de Anos Para Promoção\n",
    "- 2, 3, 2, 1\n",
    "- 4, 1, 3, 3\n",
    "- 1, 2, 5, 9\n",
    "\n",
    "Divisão entrada/saída:\n",
    "\n",
    "- Variáveis de entrada: Idade, Salario, Número de Filhos\n",
    "- Variável de saída: Número de Anos Para Promoção\n",
    "\n",
    "Vamos colocar os dados no formato de equações e resolver o seguinte sistema de equações como exemplo:\n",
    "\n",
    "- 2x + 3y + 2z = 1\n",
    "- 4x + y + 3z = 3\n",
    "- x + 2y + 5z = 9\n",
    "\n",
    "O objetivo é encontrar os valores de x, y e z que satisfazem todas as três equações simultaneamente. "
   ]
  },
  {
   "cell_type": "code",
   "execution_count": 23,
   "id": "bb138749",
   "metadata": {},
   "outputs": [],
   "source": [
    "# Matriz que representa dados de entrada\n",
    "A = np.array([[2, 3, 2],\n",
    "              [4, 1, 3],\n",
    "              [1, 2, 5]]).astype('float')\n",
    "\n",
    "# Vetor que representa dados de saída\n",
    "b = np.array([1, 3, 9]).astype('float')"
   ]
  },
  {
   "cell_type": "code",
   "execution_count": 24,
   "id": "13cf3a70",
   "metadata": {},
   "outputs": [
    {
     "data": {
      "text/plain": [
       "array([[2., 3., 2., 1.],\n",
       "       [4., 1., 3., 3.],\n",
       "       [1., 2., 5., 9.]])"
      ]
     },
     "execution_count": 24,
     "metadata": {},
     "output_type": "execute_result"
    }
   ],
   "source": [
    "# Formando a matriz combinando A e b\n",
    "Ab = np.hstack([A, b.reshape(-1, 1)])\n",
    "\n",
    "Ab"
   ]
  },
  {
   "cell_type": "code",
   "execution_count": 25,
   "id": "6edefeb3",
   "metadata": {},
   "outputs": [
    {
     "data": {
      "text/plain": [
       "3"
      ]
     },
     "execution_count": 25,
     "metadata": {},
     "output_type": "execute_result"
    }
   ],
   "source": [
    "n=len(b)\n",
    "n"
   ]
  },
  {
   "cell_type": "code",
   "execution_count": 26,
   "id": "26c64758",
   "metadata": {},
   "outputs": [
    {
     "data": {
      "text/plain": [
       "array([[4., 1., 3., 3.],\n",
       "       [2., 3., 2., 1.],\n",
       "       [1., 2., 5., 9.]])"
      ]
     },
     "execution_count": 26,
     "metadata": {},
     "output_type": "execute_result"
    }
   ],
   "source": [
    "for i in range(n):\n",
    "     # Escolhendo o maior pivô para estabilidade numérica\n",
    "    max_row = np.argmax(np.abs(Ab[i:, i])) + i\n",
    "    Ab[[i, max_row]] = Ab[[max_row, i]]\n",
    "\n",
    "Ab\n",
    "    "
   ]
  },
  {
   "cell_type": "code",
   "execution_count": 27,
   "id": "4433576c",
   "metadata": {},
   "outputs": [
    {
     "data": {
      "text/plain": [
       "array([[ 4. ,  1. ,  3. ,  3. ],\n",
       "       [ 0. ,  2.5,  0.5, -0.5],\n",
       "       [ 0. ,  0. ,  3.9,  8.6]])"
      ]
     },
     "execution_count": 27,
     "metadata": {},
     "output_type": "execute_result"
    }
   ],
   "source": [
    "for i in range(n): \n",
    "     # Tornando zero os elementos abaixo do pivô\n",
    "    for j in range(i + 1, n):\n",
    "        Ab[j] = Ab[j] - Ab[j, i] / Ab[i, i] * Ab[i]\n",
    "\n",
    "Ab"
   ]
  },
  {
   "cell_type": "code",
   "execution_count": 28,
   "id": "c490d7fe",
   "metadata": {},
   "outputs": [
    {
     "data": {
      "text/plain": [
       "array([-0.74358974, -0.64102564,  2.20512821])"
      ]
     },
     "execution_count": 28,
     "metadata": {},
     "output_type": "execute_result"
    }
   ],
   "source": [
    "# Matriz de zeros\n",
    "mat = np.zeros(n)\n",
    "    \n",
    " # Substituição para trás\n",
    "for i in range(n - 1, -1, -1):\n",
    " mat[i] = (Ab[i, -1] - np.dot(Ab[i, i + 1:n], mat[i + 1:n])) / Ab[i, i]\n",
    "\n",
    "mat"
   ]
  },
  {
   "cell_type": "code",
   "execution_count": 29,
   "id": "55e382dd",
   "metadata": {},
   "outputs": [],
   "source": [
    "x, y, z = mat"
   ]
  },
  {
   "cell_type": "markdown",
   "id": "58171ca1",
   "metadata": {},
   "source": [
    "Resultados da equação:\n",
    "- 2x + 3y + 2z = 1\n",
    "- 4x + y + 3z = 3\n",
    "- x + 2y + 5z = 9"
   ]
  },
  {
   "cell_type": "code",
   "execution_count": 30,
   "id": "9300a138",
   "metadata": {},
   "outputs": [
    {
     "name": "stdout",
     "output_type": "stream",
     "text": [
      "1.0\n",
      "3.0000000000000004\n",
      "9.0\n"
     ]
    }
   ],
   "source": [
    "print(2*x + 3*y + 2*z)\n",
    "print(4*x + y + 3*z)\n",
    "print(x + 2*y + 5*z)"
   ]
  },
  {
   "cell_type": "markdown",
   "id": "cbf456aa",
   "metadata": {},
   "source": [
    "Usando NumPy:"
   ]
  },
  {
   "cell_type": "code",
   "execution_count": 66,
   "id": "0bb13871",
   "metadata": {},
   "outputs": [
    {
     "data": {
      "text/plain": [
       "array([-0.74358974, -0.64102564,  2.20512821])"
      ]
     },
     "execution_count": 66,
     "metadata": {},
     "output_type": "execute_result"
    }
   ],
   "source": [
    "solucao = np.linalg.solve(A,b)\n",
    "\n",
    "solucao"
   ]
  },
  {
   "cell_type": "code",
   "execution_count": 67,
   "id": "6db63675",
   "metadata": {},
   "outputs": [],
   "source": [
    "x, y, z = solucao"
   ]
  },
  {
   "cell_type": "code",
   "execution_count": 68,
   "id": "d3363423",
   "metadata": {},
   "outputs": [
    {
     "name": "stdout",
     "output_type": "stream",
     "text": [
      "1.0\n",
      "3.0\n",
      "9.0\n"
     ]
    }
   ],
   "source": [
    "print(2*x + 3*y + 2*z)\n",
    "print(4*x + y + 3*z)\n",
    "print(x + 2*y + 5*z)"
   ]
  },
  {
   "cell_type": "markdown",
   "id": "28925fc7",
   "metadata": {},
   "source": [
    "## Autovalores e Autovetores"
   ]
  },
  {
   "cell_type": "markdown",
   "id": "4f6f4f1a",
   "metadata": {},
   "source": [
    "Seja $A$ uma matriz n x n. \n",
    "Um autovalor (ou valor próprio) $\\lambda$ e um autovetor $\\vec{v} \\ne \\vec{0}$ são definidos pela equação:\n",
    "\n",
    "$$A\\vec{x} = \\lambda \\vec{x}$$\n",
    "\n",
    "O vetor $\\vec{x}$ é chamado de autovetor de a correspondente a $\\lambda$\n",
    "\n",
    "- O autovetor $\\vec{x}$ é uma direção que não muda após a transformação pela matriz $A$.\n",
    "\n",
    "- O autovalor $\\lambda$ indica quanto o vetor foi esticado ou encolhido:\n",
    "\n",
    "    - Se $\\lambda > 1$: vetor cresce\n",
    "\n",
    "    - Se $0 < \\lambda < 1$: vetor encolhe\n",
    "\n",
    "    - Se $\\lambda < 0$: vetor inverte de direção"
   ]
  },
  {
   "cell_type": "code",
   "execution_count": 42,
   "id": "cc993a96",
   "metadata": {},
   "outputs": [],
   "source": [
    "a = np.array([[2, 2, 1], [1, 3, 1], [1, 2, 2]])"
   ]
  },
  {
   "cell_type": "code",
   "execution_count": 53,
   "id": "2a09b246",
   "metadata": {},
   "outputs": [],
   "source": [
    "# Autovalores e autovetores\n",
    "avl, avt = np.linalg.eig(a)\n",
    "\n",
    "# Determinante \n",
    "det = np.linalg.det(a).round()"
   ]
  },
  {
   "cell_type": "code",
   "execution_count": 54,
   "id": "6d579dcf",
   "metadata": {},
   "outputs": [
    {
     "name": "stdout",
     "output_type": "stream",
     "text": [
      "[5. 1. 1.]\n"
     ]
    }
   ],
   "source": [
    "# Autovalores\n",
    "print(avl)"
   ]
  },
  {
   "cell_type": "code",
   "execution_count": 56,
   "id": "7085cb12",
   "metadata": {},
   "outputs": [
    {
     "name": "stdout",
     "output_type": "stream",
     "text": [
      "5.0\n"
     ]
    }
   ],
   "source": [
    "print(det)"
   ]
  },
  {
   "cell_type": "markdown",
   "id": "e58f2575",
   "metadata": {},
   "source": [
    "O produto dos autovalores  (5x1x1) é igual ao determinante (5)."
   ]
  },
  {
   "cell_type": "code",
   "execution_count": 45,
   "id": "a81ecc26",
   "metadata": {},
   "outputs": [
    {
     "data": {
      "text/plain": [
       "array([[-0.57735027, -0.90453403,  0.82529864],\n",
       "       [-0.57735027,  0.30151134, -0.52125218],\n",
       "       [-0.57735027,  0.30151134,  0.21720572]])"
      ]
     },
     "execution_count": 45,
     "metadata": {},
     "output_type": "execute_result"
    }
   ],
   "source": [
    "# Autovetores\n",
    "avt"
   ]
  },
  {
   "cell_type": "markdown",
   "id": "378153bb",
   "metadata": {},
   "source": [
    "Autovalores e autovetores são extremamente úteis na Análise de Componentes Principais (PCA). No PCA, os autovetores da matriz de correlação ou covariância representam os componentes principais (as direções de variância máxima) e os autovalores correspondentes representam a quantidade de variação explicada por cada componente principal. \n",
    "\n",
    "Vamos criar uma matriz 3x3 e realizar os seguintes passos:\n",
    "\n",
    "- Calcular os autovalores e autovetores da matriz.\n",
    "- Mostrar como uma matriz pode ser aproximada usando apenas um dos seus autovetores e autovalores (essencial em PCA, por exemplo)."
   ]
  },
  {
   "cell_type": "code",
   "execution_count": 58,
   "id": "e11ff56f",
   "metadata": {},
   "outputs": [
    {
     "data": {
      "text/plain": [
       "array([[2, 0, 0],\n",
       "       [0, 3, 4],\n",
       "       [0, 4, 9]])"
      ]
     },
     "execution_count": 58,
     "metadata": {},
     "output_type": "execute_result"
    }
   ],
   "source": [
    "matriz = np.array([[2, 0, 0], [0, 3, 4], [0, 4, 9]])\n",
    "matriz"
   ]
  },
  {
   "cell_type": "code",
   "execution_count": 59,
   "id": "4f0a3cfc",
   "metadata": {},
   "outputs": [
    {
     "data": {
      "text/plain": [
       "(3, 3)"
      ]
     },
     "execution_count": 59,
     "metadata": {},
     "output_type": "execute_result"
    }
   ],
   "source": [
    "matriz.shape"
   ]
  },
  {
   "cell_type": "code",
   "execution_count": 65,
   "id": "af19bba1",
   "metadata": {},
   "outputs": [
    {
     "data": {
      "text/plain": [
       "(array([11.,  1.,  2.]),\n",
       " array([[ 0.        ,  0.        ,  1.        ],\n",
       "        [ 0.4472136 ,  0.89442719,  0.        ],\n",
       "        [ 0.89442719, -0.4472136 ,  0.        ]]))"
      ]
     },
     "execution_count": 65,
     "metadata": {},
     "output_type": "execute_result"
    }
   ],
   "source": [
    "# Calculando autovalores e autovetores\n",
    "autovalores_B, autovetores_B = np.linalg.eig(matriz)\n",
    "autovalores_B, autovetores_B "
   ]
  },
  {
   "cell_type": "markdown",
   "id": "80dfb4ae",
   "metadata": {},
   "source": [
    "- Verificar a propriedade Av=λv, onde A é a matriz, v é um autovetor e λ é o autovalor correspondente."
   ]
  },
  {
   "cell_type": "code",
   "execution_count": null,
   "id": "b8284aee",
   "metadata": {},
   "outputs": [
    {
     "data": {
      "text/plain": [
       "[array([0.        , 4.91934955, 9.8386991 ]),\n",
       " array([ 0.        ,  0.89442719, -0.4472136 ]),\n",
       " array([2., 0., 0.])]"
      ]
     },
     "execution_count": 67,
     "metadata": {},
     "output_type": "execute_result"
    }
   ],
   "source": [
    "[matriz @ autovetores_B[:, i] for i in range(3)]"
   ]
  },
  {
   "cell_type": "code",
   "execution_count": 68,
   "id": "86cfc139",
   "metadata": {},
   "outputs": [
    {
     "data": {
      "text/plain": [
       "[array([0.        , 4.91934955, 9.8386991 ]),\n",
       " array([ 0.        ,  0.89442719, -0.4472136 ]),\n",
       " array([2., 0., 0.])]"
      ]
     },
     "execution_count": 68,
     "metadata": {},
     "output_type": "execute_result"
    }
   ],
   "source": [
    "[autovalores_B[i] * autovetores_B[:, i] for i in range(3)]"
   ]
  },
  {
   "cell_type": "markdown",
   "id": "95c6b49c",
   "metadata": {},
   "source": [
    "- Mostrar como uma matriz pode ser aproximada usando apenas um dos seus autovetores e autovalores (essencial em PCA, por exemplo)."
   ]
  },
  {
   "cell_type": "code",
   "execution_count": 74,
   "id": "51008b34",
   "metadata": {},
   "outputs": [
    {
     "data": {
      "text/plain": [
       "array([[0. , 0. , 0. ],\n",
       "       [0. , 2.2, 4.4],\n",
       "       [0. , 4.4, 8.8]])"
      ]
     },
     "execution_count": 74,
     "metadata": {},
     "output_type": "execute_result"
    }
   ],
   "source": [
    "# Aproximação da matriz usando apenas um autovetor e autovalor\n",
    "# Aqui, usaremos o primeiro autovalor e autovetor\n",
    "aproximacao = np.outer(autovetores_B[:, 0], autovetores_B[:, 0]) * autovalores_B[0]\n",
    "aproximacao"
   ]
  },
  {
   "cell_type": "markdown",
   "id": "a2d8d665",
   "metadata": {},
   "source": [
    "## Redução de dimensionalidade com PCA Usando Autovalores e Autovetores"
   ]
  },
  {
   "cell_type": "code",
   "execution_count": null,
   "id": "045b3c7e",
   "metadata": {},
   "outputs": [],
   "source": [
    "import matplotlib.pyplot as plt\n",
    "from mpl_toolkits import Axes3D "
   ]
  },
  {
   "cell_type": "code",
   "execution_count": 97,
   "id": "a3d19b40",
   "metadata": {},
   "outputs": [],
   "source": [
    "X = np.random.randn(100,3)"
   ]
  },
  {
   "cell_type": "code",
   "execution_count": null,
   "id": "74767e90",
   "metadata": {},
   "outputs": [],
   "source": [
    "cov_matriz = np.cov(X.T)\n",
    "cov_matriz"
   ]
  }
 ],
 "metadata": {
  "kernelspec": {
   "display_name": "Python 3",
   "language": "python",
   "name": "python3"
  },
  "language_info": {
   "codemirror_mode": {
    "name": "ipython",
    "version": 3
   },
   "file_extension": ".py",
   "mimetype": "text/x-python",
   "name": "python",
   "nbconvert_exporter": "python",
   "pygments_lexer": "ipython3",
   "version": "3.10.12"
  }
 },
 "nbformat": 4,
 "nbformat_minor": 5
}
