{
 "cells": [
  {
   "cell_type": "markdown",
   "id": "8c97cffb",
   "metadata": {},
   "source": [
    "# Álgebra e Vetores"
   ]
  },
  {
   "cell_type": "code",
   "execution_count": 2,
   "id": "0fd02e30",
   "metadata": {},
   "outputs": [],
   "source": [
    "import math"
   ]
  },
  {
   "cell_type": "markdown",
   "id": "0fefb79e",
   "metadata": {},
   "source": [
    "## Regras Básicas da Álgebra"
   ]
  },
  {
   "cell_type": "markdown",
   "id": "94783051",
   "metadata": {
    "vscode": {
     "languageId": "plaintext"
    }
   },
   "source": [
    "### Propriedades da Igualdade\n"
   ]
  },
  {
   "cell_type": "markdown",
   "id": "9a222186",
   "metadata": {},
   "source": [
    "1. **Reflexiva**  \n",
    "   Qualquer valor é igual a si mesmo:  \n",
    "   $ a = a $\n",
    "\n",
    "2. **Simétrica**  \n",
    "   Se $a = b$, então $b = a$\n",
    "   A ordem dos lados pode ser invertida.\n",
    "\n",
    "3. **Transitiva**  \n",
    "   Se $a = b$ e $b = c$, então $ a = c $"
   ]
  },
  {
   "cell_type": "code",
   "execution_count": 39,
   "id": "27981079",
   "metadata": {},
   "outputs": [
    {
     "name": "stdout",
     "output_type": "stream",
     "text": [
      "True\n"
     ]
    }
   ],
   "source": [
    "# Reflexiva\n",
    "a = 5\n",
    "print(a==a)"
   ]
  },
  {
   "cell_type": "code",
   "execution_count": 40,
   "id": "2122586e",
   "metadata": {},
   "outputs": [
    {
     "name": "stdout",
     "output_type": "stream",
     "text": [
      "True\n",
      "True\n"
     ]
    }
   ],
   "source": [
    "# Simetrica\n",
    "a = 10\n",
    "b = 10\n",
    "print(a==b) \n",
    "print(b==a)"
   ]
  },
  {
   "cell_type": "code",
   "execution_count": 41,
   "id": "3d83baec",
   "metadata": {},
   "outputs": [
    {
     "name": "stdout",
     "output_type": "stream",
     "text": [
      "True\n",
      "True\n"
     ]
    }
   ],
   "source": [
    "# Trasitiva\n",
    "a = 5 \n",
    "b = 5\n",
    "c = 5\n",
    "print(a==b and b==c)\n",
    "print(a==c)"
   ]
  },
  {
   "cell_type": "markdown",
   "id": "1437400f",
   "metadata": {},
   "source": [
    "### Propriedades das Operações\n"
   ]
  },
  {
   "cell_type": "markdown",
   "id": "c3fe7a7e",
   "metadata": {},
   "source": [
    "1. **Propriedade Comutativa**\n",
    "   - A ordem dos termos não altera o resultado (válido para soma e multiplicação).\n",
    "   - Exemplo:  \n",
    "     $a + b = b + a$  \n",
    "     $a \\cdot b = b \\cdot a$\n",
    "\n",
    "2. **Propriedade Associativa**\n",
    "   - A forma de agrupar os termos não altera o resultado (válido para soma e multiplicação).\n",
    "   - Exemplo:  \n",
    "     $(a + b) + c = a + (b + c)$  \n",
    "     $(a \\cdot b) \\cdot c = a \\cdot (b \\cdot c)$\n",
    "\n",
    "3. **Propriedade Distributiva**\n",
    "   - Multiplicar um número por uma soma ou subtração é o mesmo que multiplicar cada parcela separadamente e depois somar.\n",
    "   - Exemplo:  \n",
    "     $a \\cdot (b + c) = a \\cdot b + a \\cdot c$\n",
    "\n",
    "4. **Elemento Neutro**\n",
    "   - Soma: o número 0 é o neutro (não altera o valor).  \n",
    "     $a + 0 = a$\n",
    "   - Multiplicação: o número 1 é o neutro.  \n",
    "     $a \\cdot 1 = a$\n",
    "\n",
    "5. **Elemento Inverso**\n",
    "   - Soma: o inverso de $a$ é $-a$ (sua soma dá 0).  \n",
    "     $a + (-a) = 0$\n",
    "   - Multiplicação: o inverso de $a$ (≠ 0) é $\\frac{1}{a}$.  \n",
    "     $a \\cdot \\frac{1}{a} = 1$\n"
   ]
  },
  {
   "cell_type": "markdown",
   "id": "3d9b4317",
   "metadata": {},
   "source": [
    "### Regras da Exponenciação"
   ]
  },
  {
   "cell_type": "markdown",
   "id": "ed3778eb",
   "metadata": {},
   "source": [
    "1. **Produto de potências com mesma base**  \n",
    "   Some os expoentes:  \n",
    "   $a^m \\cdot a^n = a^{m+n}$\n",
    "\n",
    "2. **Divisão de potências com mesma base**  \n",
    "   Subtraia os expoentes:  \n",
    "   $\\frac{a^m}{a^n} = a^{m-n}$\n",
    "\n",
    "3. **Potência de uma potência**  \n",
    "   Multiplique os expoentes:  \n",
    "   $(a^m)^n = a^{m \\cdot n}$\n",
    "\n",
    "4. **Potência de um produto**  \n",
    "   A potência se distribui entre os fatores:  \n",
    "   $(a \\cdot b)^n = a^n \\cdot b^n$\n",
    "\n",
    "5. **Potência de um quociente**  \n",
    "   A potência se distribui entre numerador e denominador:  \n",
    "   $\\left(\\frac{a}{b}\\right)^n = \\frac{a^n}{b^n}$\n",
    "\n",
    "6. **Expoente zero**  \n",
    "   Qualquer número diferente de zero elevado a zero é 1:  \n",
    "   $a^0 = 1 \\quad (a \\neq 0)$\n",
    "\n",
    "7. **Expoente negativo**  \n",
    "   Torna-se o inverso da base elevada ao expoente positivo:  \n",
    "   $a^{-n} = \\frac{1}{a^n} \\quad (a \\neq 0)$\n",
    "\n",
    "8. **Base 1 ou 0**  \n",
    "   - $1^n = 1$ para qualquer $n$  \n",
    "   - $0^n = 0$ para $n > 0$\n"
   ]
  },
  {
   "cell_type": "markdown",
   "id": "24ac7db2",
   "metadata": {},
   "source": [
    "### Regras dos Radicais"
   ]
  },
  {
   "cell_type": "markdown",
   "id": "6b675516",
   "metadata": {},
   "source": [
    "\n",
    "1. **Produto de radicais com o mesmo índice**  \n",
    "   $\\sqrt[n]{a} \\cdot \\sqrt[n]{b} = \\sqrt[n]{a \\cdot b}$\n",
    "\n",
    "2. **Quociente de radicais com o mesmo índice**  \n",
    "   $\\frac{\\sqrt[n]{a}}{\\sqrt[n]{b}} = \\sqrt[n]{\\frac{a}{b}} \\quad (b \\neq 0)$\n",
    "\n",
    "3. **Radiciação de uma potência**  \n",
    "   $\\sqrt[n]{a^m} = a^{\\frac{m}{n}}$\n",
    "\n",
    "4. **Potência de um radical**  \n",
    "   $(\\sqrt[n]{a})^m = a^{\\frac{m}{n}}$\n",
    "\n",
    "5. **Radical de radical (radiciação composta)**  \n",
    "   $\\sqrt[m]{\\sqrt[n]{a}} = \\sqrt[m \\cdot n]{a} = a^{\\frac{1}{mn}}$\n",
    "\n",
    "6. **Radical de 1**  \n",
    "   $\\sqrt[n]{1} = 1$ para qualquer $n \\neq 0$\n",
    "\n",
    "7. **Simplificação de radicais (se possível)**  \n",
    "   $\\sqrt{a^2} = |a|$ (raiz quadrada sempre retorna valor positivo)\n",
    "\n",
    "Onde:  \n",
    " - $a, b > 0$  \n",
    " - $n, m$ são naturais com $n, m \\geq 2$\n"
   ]
  },
  {
   "cell_type": "markdown",
   "id": "c1ad53c3",
   "metadata": {},
   "source": [
    "#### Problema: ponto flutuante\n",
    "\n",
    "A manipulação algebra abaixo deveria resultar em True, porém existe o problema do ponto flutuante, onde o arredondamento pode mudar de computador para computador."
   ]
  },
  {
   "cell_type": "code",
   "execution_count": 5,
   "id": "e2c235ec",
   "metadata": {},
   "outputs": [
    {
     "name": "stdout",
     "output_type": "stream",
     "text": [
      "False\n"
     ]
    }
   ],
   "source": [
    "print(math.sqrt(2*8) == math.sqrt(2) * math.sqrt(8))"
   ]
  },
  {
   "cell_type": "code",
   "execution_count": 9,
   "id": "f73fc665",
   "metadata": {},
   "outputs": [
    {
     "name": "stdout",
     "output_type": "stream",
     "text": [
      "4.0\n",
      "4.000000000000001\n"
     ]
    }
   ],
   "source": [
    "print(math.sqrt(2*8))\n",
    "print(math.sqrt(2)*math.sqrt(8))"
   ]
  },
  {
   "cell_type": "code",
   "execution_count": 12,
   "id": "b44ed552",
   "metadata": {},
   "outputs": [
    {
     "name": "stdout",
     "output_type": "stream",
     "text": [
      "True\n"
     ]
    }
   ],
   "source": [
    "# Adicionar uma tolerancia, ou seja a diferença entre os dois valores deve ser menor que uma tolerância\n",
    "tolerance = 1e-10\n",
    "a  = math.sqrt(2*8)\n",
    "b = math.sqrt(2) * math.sqrt(8)\n",
    "print(abs(a - b) < tolerance)"
   ]
  },
  {
   "cell_type": "markdown",
   "id": "52178d36",
   "metadata": {},
   "source": [
    "## Vetores"
   ]
  },
  {
   "cell_type": "markdown",
   "id": "bedbf1c8",
   "metadata": {},
   "source": [
    "### Conceito e Aplicações"
   ]
  },
  {
   "cell_type": "markdown",
   "id": "b5f86070",
   "metadata": {},
   "source": [
    "\n",
    "Vetores são objetos matemáticos que possuem **magnitude** (tamanho) e **direção**, diferindo dos escalares, que têm apenas magnitude. Eles são representados graficamente por **setas**, onde:\n",
    "- O comprimento da seta representa a magnitude.\n",
    "- A direção da seta mostra para onde o vetor aponta.\n",
    "\n",
    "#### Representação\n",
    "- Em 2D: dois componentes (X, Y).\n",
    "- Em 3D: três componentes (X, Y, Z).\n",
    "- Em espaços de dimensão maior: usados em álgebra linear e aprendizado de máquina.\n",
    "\n",
    "#### Operações com Vetores\n",
    "- **Soma e subtração**: combinam vetores.\n",
    "- **Multiplicação por escalar**: altera o tamanho, mas mantém a direção.\n",
    "- **Produto interno**: mede semelhança entre vetores (útil em ML).\n",
    "\n",
    "#### Aplicações\n",
    "- **Física**: representação de forças, velocidades, acelerações.\n",
    "- **Engenharia**: análise de estruturas e sistemas.\n",
    "- **Matemática e Álgebra Linear**: resolução de sistemas e transformações.\n",
    "- **Ciência de Dados**: cada vetor pode representar um exemplo (como um paciente), com componentes indicando variáveis (ex: idade, peso, exames).\n",
    "- **Machine Learning**: vetores representam amostras, atributos e são usados em algoritmos como regressão, clustering, redes neurais, etc.\n",
    "\n",
    "Vetores são fundamentais para representar dados, realizar transformações e identificar padrões em grandes volumes de informação.\n"
   ]
  },
  {
   "cell_type": "markdown",
   "id": "ac66c61e",
   "metadata": {},
   "source": [
    "#### Dimensões de Vetores\n",
    "\n",
    "As dimensões de um vetor correspondem ao número de componentes que ele possui, e determinam o tipo de espaço em que ele existe ou é aplicado. Essas dimensões têm grande importância em matemática, física e ciência de dados.\n",
    "\n",
    "**Vetores Bidimensionais (2D)**\n",
    "- Representados como $(x, y)$.\n",
    "- Aplicados em geometria plana.\n",
    "- Possuem dois componentes: um no eixo X e outro no eixo Y.\n",
    "- Podem ser visualizados facilmente como setas no plano.\n",
    "\n",
    "**Vetores Tridimensionais (3D)**\n",
    "- Representados como $(x, y, z)$.\n",
    "- Usados para representar movimentos ou forças no espaço físico.\n",
    "- Utilizados em física e gráficos computacionais.\n",
    "- Incluem um terceiro componente no eixo Z.\n",
    "\n",
    "**Vetores em Espaços de Dimensões Superiores**\n",
    "- Exemplo: $(x_1, x_2, x_3, x_4, x_5)$.\n",
    "- Aplicados em álgebra linear, estatística e aprendizado de máquina.\n",
    "- Cada componente representa uma variável ou atributo distinto.\n",
    "- São fundamentais para representar dados em problemas com muitas variáveis.\n",
    "\n",
    "**Aplicações e Visualização**\n",
    "- Em **ciência de dados**, cada vetor pode representar uma amostra, com cada dimensão indicando uma variável (idade, peso, altura, etc.).\n",
    "- Vetores de 2D e 3D podem ser visualizados graficamente.\n",
    "- Vetores de 4D ou mais são interpretados conceitualmente ou projetados para 2D/3D.\n",
    "\n",
    "**Operações com Vetores em Qualquer Dimensão**\n",
    "- A adição, subtração e multiplicação por escalar funcionam da mesma forma independentemente da dimensão.\n",
    "- As regras são universais e aplicam-se a vetores de qualquer tamanho.\n",
    "\n",
    "**Resumo:**  \n",
    "As dimensões de um vetor determinam quantas variáveis ele pode representar e em que tipo de espaço ele atua. Vetores de dimensão superior são amplamente usados em análise de dados e machine learning para representar pontos em espaços de muitas variáveis.\n"
   ]
  },
  {
   "cell_type": "markdown",
   "id": "7fb5077f",
   "metadata": {},
   "source": [
    "### Operações com Vetores \n",
    "\n",
    "#### Adição e subtração - Vetores unidimensionais"
   ]
  },
  {
   "cell_type": "markdown",
   "id": "524dedc1",
   "metadata": {},
   "source": [
    "A **soma ou subtração de vetores** consiste em somar ou subtrair seus componentes correspondentes. A operação é feita **componente a componente**, e o resultado é um novo vetor.\n",
    "\n",
    "\n",
    "$$\n",
    "\\vec{u} = (u_1, u_2), \\quad \\vec{v} = (v_1, v_2)\n",
    "$$\n",
    "\n",
    "A soma é dada por:\n",
    "\n",
    "$$\n",
    "\\vec{u} + \\vec{v} = (u_1 + v_1, \\ u_2 + v_2)\n",
    "$$\n",
    "\n",
    "A subtração é dada por:\n",
    "\n",
    "$$\n",
    "\\vec{u} - \\vec{v} = (u_1 - v_1, \\ u_2 - v_2)\n",
    "$$\n",
    "\n",
    "Observações:\n",
    "\n",
    "- A soma de vetores **só pode ser feita entre vetores de mesma dimensão**.\n",
    "- A operação é **comutativa**:  \n",
    "  $$\n",
    "  \\vec{u} + \\vec{v} = \\vec{v} + \\vec{u}\n",
    "  $$\n",
    "- E **associativa**:  \n",
    "  $$\n",
    "  (\\vec{u} + \\vec{v}) + \\vec{w} = \\vec{u} + (\\vec{v} + \\vec{w})\n",
    "  $$"
   ]
  },
  {
   "cell_type": "markdown",
   "id": "6847a040",
   "metadata": {},
   "source": [
    "**Exemplo** \n",
    "\n",
    "$\n",
    "\\vec{u} = (3, 2), \\quad \\vec{v} = (1, 4)\n",
    "$\n",
    "\n",
    "**Soma:**\n",
    "$\n",
    "\\vec{u} + \\vec{v} = (3 + 1,\\ 2 + 4) = (4, 6)\n",
    "$\n"
   ]
  },
  {
   "cell_type": "code",
   "execution_count": 25,
   "id": "2d51dad9",
   "metadata": {},
   "outputs": [],
   "source": [
    "vetor_u = [3, 2]\n",
    "vetor_v = [1, 4]"
   ]
  },
  {
   "cell_type": "code",
   "execution_count": 26,
   "id": "4c53520b",
   "metadata": {},
   "outputs": [
    {
     "data": {
      "text/plain": [
       "[4, 6]"
      ]
     },
     "execution_count": 26,
     "metadata": {},
     "output_type": "execute_result"
    }
   ],
   "source": [
    "def somar_vetores(a, b):\n",
    "    return[a[i] + b[i] for i in range(len(a))]\n",
    "\n",
    "somar_vetores(vetor_u, vetor_v)"
   ]
  },
  {
   "cell_type": "markdown",
   "id": "ac3b4045",
   "metadata": {},
   "source": [
    "**Subtração:**\n",
    "\n",
    "$\n",
    "\\vec{u} = (3, 2), \\quad \\vec{v} = (1, 4)\n",
    "$\n",
    "\n",
    "$\n",
    "\\vec{u} - \\vec{v} = (3 - 1,\\ 2 - 4) = (2, -2)\n",
    "$\n"
   ]
  },
  {
   "cell_type": "code",
   "execution_count": 28,
   "id": "cd6830aa",
   "metadata": {},
   "outputs": [
    {
     "data": {
      "text/plain": [
       "[2, -2]"
      ]
     },
     "execution_count": 28,
     "metadata": {},
     "output_type": "execute_result"
    }
   ],
   "source": [
    "def subtrair_vetores(a, b):\n",
    "    return[a[i] - b[i] for i in range(len(a))]\n",
    "\n",
    "subtrair_vetores(vetor_u, vetor_v)"
   ]
  }
 ],
 "metadata": {
  "kernelspec": {
   "display_name": "Python 3",
   "language": "python",
   "name": "python3"
  },
  "language_info": {
   "codemirror_mode": {
    "name": "ipython",
    "version": 3
   },
   "file_extension": ".py",
   "mimetype": "text/x-python",
   "name": "python",
   "nbconvert_exporter": "python",
   "pygments_lexer": "ipython3",
   "version": "3.10.12"
  }
 },
 "nbformat": 4,
 "nbformat_minor": 5
}
