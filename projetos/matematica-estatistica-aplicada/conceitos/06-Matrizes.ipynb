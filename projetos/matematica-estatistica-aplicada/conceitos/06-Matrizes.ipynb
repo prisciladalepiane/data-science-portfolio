{
 "cells": [
  {
   "cell_type": "markdown",
   "id": "44ddd8a6",
   "metadata": {},
   "source": [
    "# Matrizes"
   ]
  },
  {
   "cell_type": "markdown",
   "id": "d55057ca",
   "metadata": {},
   "source": [
    "## O Que São Matrizes?"
   ]
  },
  {
   "cell_type": "markdown",
   "id": "53f91415",
   "metadata": {},
   "source": [
    "\n",
    "Matrizes são arranjos de números, símbolos ou expressões, organizados em linhas e colunas. Elas são um conceito fundamental na Matemática, especialmente na álgebra linear, e têm diversas aplicações em ciências, engenharia, estatística e outras áreas. Abaixo, alguns pontos-chave sobre matrizes:\n",
    "\n",
    "1. **Elementos**  \n",
    "   Cada item em uma matriz é chamado de elemento. Os elementos podem ser números, mas também podem ser expressões mais complexas.\n",
    "\n",
    "2. **Dimensões**  \n",
    "   O tamanho de uma matriz é definido por suas linhas (horizontal) e colunas (vertical). Por exemplo, uma matriz de 3x2 tem 3 linhas e 2 colunas.\n",
    "\n",
    "3. **Tipos de Matrizes**  \n",
    "   Existem vários tipos, incluindo:  \n",
    "   - Matrizes quadradas (mesmo número de linhas e colunas)  \n",
    "   - Matrizes retangulares (número diferente de linhas e colunas)  \n",
    "   - Matrizes diagonais (elementos fora da diagonal principal são todos zero)  \n",
    "   - Entre outros tipos especiais\n",
    "\n",
    "4. **Operações**  \n",
    "   As matrizes podem ser somadas, subtraídas e multiplicadas entre si, seguindo regras específicas. SPor exemplo, a multiplicação de matrizes não é comutativa, ou seja, a ordem dos fatores altera o resultado.\n",
    "\n",
    "5. **Determinante e Inversa**  \n",
    "   Para algumas matrizes quadradas, pode-se calcular o determinante, uma propriedade que fornece informações importantes sobre a matriz. Matrizes com determinante diferente de zero possuem uma inversa, que é uma matriz que, ao ser multiplicada pela original, resulta na matriz identidade.\n",
    "\n",
    "6. **Aplicações**  \n",
    "   - Matrizes são usadas para resolver sistemas de equações lineares, onde cada linha pode representar uma equação e cada coluna uma variável desconhecida.  \n",
    "   - Representam transformações lineares entre espaços vetoriais, como rotações, reflexões e escalonamentos em gráficos computacionais.  \n",
    "   - São utilizadas em matemática avançada para encontrar autovalores e autovetores, úteis na análise de sistemas dinâmicos, mecânica quântica e redução de dimensionalidade em Machine Learning.  \n",
    "   - Organizam e manipulam dados com múltiplas variáveis por observação, como em pesquisas: cada linha representa uma resposta individual, cada coluna uma pergunta.  \n",
    "   - Fundamentais em modelos estatísticos lineares, como a regressão linear múltipla, representando variáveis dependentes e independentes.  \n",
    "   - Matrizes de covariância e correlação ajudam a entender como diferentes variáveis estão relacionadas entre si. Cada elemento representa a covariância ou correlação entre um par de variáveis.\n",
    "\n",
    "> Matrizes são estruturas essenciais para representar e manipular relações lineares entre variáveis, dados e transformações espaciais. Elas fornecem uma forma compacta e poderosa de resolver uma ampla variedade de problemas teóricos e práticos.\n",
    "\n"
   ]
  },
  {
   "cell_type": "markdown",
   "id": "b01129c1",
   "metadata": {},
   "source": [
    "## Trabalhando com Escalares usando NumPy"
   ]
  },
  {
   "cell_type": "code",
   "execution_count": 1,
   "id": "368f1ab9",
   "metadata": {},
   "outputs": [],
   "source": [
    "import numpy as np"
   ]
  },
  {
   "cell_type": "code",
   "execution_count": 9,
   "id": "ee6a7244",
   "metadata": {},
   "outputs": [
    {
     "data": {
      "text/plain": [
       "(int, numpy.ndarray)"
      ]
     },
     "execution_count": 9,
     "metadata": {},
     "output_type": "execute_result"
    }
   ],
   "source": [
    "escalar1 = 2\n",
    "escalar = np.array(2)\n",
    "type(escalar1), type(escalar)"
   ]
  },
  {
   "cell_type": "code",
   "execution_count": 10,
   "id": "c986c59f",
   "metadata": {},
   "outputs": [
    {
     "name": "stdout",
     "output_type": "stream",
     "text": [
      "2\n"
     ]
    }
   ],
   "source": [
    "print(escalar)"
   ]
  },
  {
   "cell_type": "code",
   "execution_count": 11,
   "id": "468d7863",
   "metadata": {},
   "outputs": [
    {
     "name": "stdout",
     "output_type": "stream",
     "text": [
      "4\n"
     ]
    },
    {
     "data": {
      "text/plain": [
       "numpy.int64"
      ]
     },
     "execution_count": 11,
     "metadata": {},
     "output_type": "execute_result"
    }
   ],
   "source": [
    "x = 2 + escalar\n",
    "print(x)\n",
    "type(x)"
   ]
  },
  {
   "cell_type": "code",
   "execution_count": 18,
   "id": "0edc5bfb",
   "metadata": {},
   "outputs": [
    {
     "data": {
      "text/plain": [
       "()"
      ]
     },
     "execution_count": 18,
     "metadata": {},
     "output_type": "execute_result"
    }
   ],
   "source": [
    "escalar.shape"
   ]
  },
  {
   "cell_type": "markdown",
   "id": "21770bfe",
   "metadata": {},
   "source": [
    "## Vetores"
   ]
  },
  {
   "cell_type": "code",
   "execution_count": 15,
   "id": "ceddafdb",
   "metadata": {},
   "outputs": [
    {
     "data": {
      "text/plain": [
       "numpy.ndarray"
      ]
     },
     "execution_count": 15,
     "metadata": {},
     "output_type": "execute_result"
    }
   ],
   "source": [
    "vetor = np.array([1, 2, 3])\n",
    "type(vetor)"
   ]
  },
  {
   "cell_type": "code",
   "execution_count": 16,
   "id": "da2a620a",
   "metadata": {},
   "outputs": [
    {
     "name": "stdout",
     "output_type": "stream",
     "text": [
      "[1 2 3]\n"
     ]
    }
   ],
   "source": [
    "print(vetor)"
   ]
  },
  {
   "cell_type": "code",
   "execution_count": 17,
   "id": "e18234cf",
   "metadata": {},
   "outputs": [
    {
     "data": {
      "text/plain": [
       "(3,)"
      ]
     },
     "execution_count": 17,
     "metadata": {},
     "output_type": "execute_result"
    }
   ],
   "source": [
    "vetor.shape"
   ]
  },
  {
   "cell_type": "markdown",
   "id": "e9d6546d",
   "metadata": {},
   "source": [
    "O shape (3,) indica 3 elementos de uma estrutura unidimensional"
   ]
  },
  {
   "cell_type": "code",
   "execution_count": 24,
   "id": "a1db1a17",
   "metadata": {},
   "outputs": [
    {
     "data": {
      "text/plain": [
       "np.int64(1)"
      ]
     },
     "execution_count": 24,
     "metadata": {},
     "output_type": "execute_result"
    }
   ],
   "source": [
    "vetor[0]"
   ]
  },
  {
   "cell_type": "markdown",
   "id": "7cb6ae7c",
   "metadata": {},
   "source": [
    "## Matrizes"
   ]
  },
  {
   "cell_type": "code",
   "execution_count": 25,
   "id": "eec574a2",
   "metadata": {},
   "outputs": [
    {
     "name": "stdout",
     "output_type": "stream",
     "text": [
      "[[1 2 3]\n",
      " [4 5 6]\n",
      " [7 8 9]]\n"
     ]
    }
   ],
   "source": [
    "m = np.array([[1, 2, 3], [4, 5, 6], [7, 8, 9]])\n",
    "type(m)\n",
    "print(m)"
   ]
  },
  {
   "cell_type": "code",
   "execution_count": 26,
   "id": "b00616db",
   "metadata": {},
   "outputs": [
    {
     "data": {
      "text/plain": [
       "(3, 3)"
      ]
     },
     "execution_count": 26,
     "metadata": {},
     "output_type": "execute_result"
    }
   ],
   "source": [
    "m.shape"
   ]
  },
  {
   "cell_type": "markdown",
   "id": "a82e0b72",
   "metadata": {},
   "source": [
    "O shape (3,3) indica que é uma matriz com 2 dimensões, cada dimensão tem 3 elementos."
   ]
  },
  {
   "cell_type": "code",
   "execution_count": 28,
   "id": "d47a3404",
   "metadata": {},
   "outputs": [
    {
     "name": "stdout",
     "output_type": "stream",
     "text": [
      "6\n"
     ]
    }
   ],
   "source": [
    "print(m[1, 2])"
   ]
  },
  {
   "cell_type": "markdown",
   "id": "3a908708",
   "metadata": {},
   "source": [
    "## Tensores\n",
    "\n",
    "Tensores são como vetores e matrizes, mas podem ter n dimensões."
   ]
  },
  {
   "cell_type": "code",
   "execution_count": 43,
   "id": "181c6f52",
   "metadata": {},
   "outputs": [
    {
     "name": "stdout",
     "output_type": "stream",
     "text": [
      "[[[ 1  2  2]\n",
      "  [ 3  4  4]]\n",
      "\n",
      " [[ 5  6  5]\n",
      "  [ 7  8  8]]\n",
      "\n",
      " [[ 9 10  9]\n",
      "  [11  8  9]]]\n"
     ]
    },
    {
     "data": {
      "text/plain": [
       "(3, 2, 3)"
      ]
     },
     "execution_count": 43,
     "metadata": {},
     "output_type": "execute_result"
    }
   ],
   "source": [
    "t = np.array([[[1, 2, 2], [3, 4, 4]],\\\n",
    "               [[5, 6, 5], [7, 8, 8]],\\\n",
    "               [[9, 10, 9], [11, 8, 9]]])\n",
    "print(t)\n",
    "t.shape"
   ]
  },
  {
   "cell_type": "markdown",
   "id": "5f7902cf",
   "metadata": {},
   "source": [
    "### Mudança de shape entre vetores, matrizes e tensores"
   ]
  },
  {
   "cell_type": "code",
   "execution_count": 46,
   "id": "5d684d10",
   "metadata": {},
   "outputs": [
    {
     "name": "stdout",
     "output_type": "stream",
     "text": [
      "[1 2 3 4 5]\n"
     ]
    },
    {
     "data": {
      "text/plain": [
       "(5,)"
      ]
     },
     "execution_count": 46,
     "metadata": {},
     "output_type": "execute_result"
    }
   ],
   "source": [
    "vec = np.array([1, 2, 3, 4, 5])\n",
    "print(vec)\n",
    "vec.shape"
   ]
  },
  {
   "cell_type": "code",
   "execution_count": 49,
   "id": "787905a4",
   "metadata": {},
   "outputs": [
    {
     "name": "stdout",
     "output_type": "stream",
     "text": [
      "[[1]\n",
      " [2]\n",
      " [3]\n",
      " [4]\n",
      " [5]]\n"
     ]
    },
    {
     "data": {
      "text/plain": [
       "(5, 1)"
      ]
     },
     "execution_count": 49,
     "metadata": {},
     "output_type": "execute_result"
    }
   ],
   "source": [
    "x = vec.reshape(5, 1)\n",
    "print(x)\n",
    "x.shape"
   ]
  },
  {
   "cell_type": "markdown",
   "id": "22df5503",
   "metadata": {},
   "source": [
    "Uso de `flatten` para transformar tensor em vetor:"
   ]
  },
  {
   "cell_type": "code",
   "execution_count": null,
   "id": "4be1e280",
   "metadata": {},
   "outputs": [
    {
     "name": "stdout",
     "output_type": "stream",
     "text": [
      "[1 2 3 4 5 6 7 8]\n"
     ]
    }
   ],
   "source": [
    "t = np.array([[[1, 2], [3, 4]],\n",
    "             [[5, 6], [7, 8]]])\n",
    "\n",
    "vetor_flat = t.flatten()\n",
    "print(vetor_flat)"
   ]
  },
  {
   "cell_type": "markdown",
   "id": "a66e6cfb",
   "metadata": {},
   "source": [
    "Cnverter em matriz"
   ]
  },
  {
   "cell_type": "code",
   "execution_count": 54,
   "id": "5af404ea",
   "metadata": {},
   "outputs": [
    {
     "name": "stdout",
     "output_type": "stream",
     "text": [
      "[[1 2 3 4]\n",
      " [5 6 7 8]]\n"
     ]
    }
   ],
   "source": [
    "matriz = t.reshape(2, 4)\n",
    "print(matriz)"
   ]
  },
  {
   "cell_type": "code",
   "execution_count": 55,
   "id": "6e9b079d",
   "metadata": {},
   "outputs": [
    {
     "name": "stdout",
     "output_type": "stream",
     "text": [
      "[[1 2]\n",
      " [3 4]\n",
      " [5 6]\n",
      " [7 8]]\n"
     ]
    }
   ],
   "source": [
    "matriz = t.reshape(4, 2)\n",
    "print(matriz)"
   ]
  },
  {
   "cell_type": "markdown",
   "id": "1eb663cf",
   "metadata": {},
   "source": [
    "## ELement-wise\n",
    "### Operações Element-wise com Vetores"
   ]
  },
  {
   "cell_type": "code",
   "execution_count": 56,
   "id": "f75556ca",
   "metadata": {},
   "outputs": [
    {
     "name": "stdout",
     "output_type": "stream",
     "text": [
      "[11 12 13 14 15]\n"
     ]
    }
   ],
   "source": [
    "valores = np.array([1, 2, 3, 4, 5])\n",
    "\n",
    "valores = valores + 10\n",
    "print(valores)"
   ]
  },
  {
   "cell_type": "code",
   "execution_count": null,
   "id": "2bed197e",
   "metadata": {},
   "outputs": [
    {
     "name": "stdout",
     "output_type": "stream",
     "text": [
      "[11 12 13 14 15]\n"
     ]
    }
   ],
   "source": [
    "valores = np.array([1, 2, 3, 4, 5])\n",
    "\n",
    "# outro método,  mais otimizado\n",
    "valores = np.add(valores, 10)\n",
    "print(valores)"
   ]
  },
  {
   "cell_type": "code",
   "execution_count": 61,
   "id": "e54dc31b",
   "metadata": {},
   "outputs": [
    {
     "name": "stdout",
     "output_type": "stream",
     "text": [
      "[0 0 0 0 0]\n"
     ]
    }
   ],
   "source": [
    "valores *= 0\n",
    "print(valores)"
   ]
  },
  {
   "cell_type": "markdown",
   "id": "3f1778b0",
   "metadata": {},
   "source": [
    "### Operações Element-wise com Matrizes"
   ]
  },
  {
   "cell_type": "code",
   "execution_count": 64,
   "id": "cf262ab0",
   "metadata": {},
   "outputs": [
    {
     "name": "stdout",
     "output_type": "stream",
     "text": [
      "[[1 2]\n",
      " [5 6]]\n"
     ]
    }
   ],
   "source": [
    "x = np.array([[1, 2], [5, 6]])\n",
    "print(x)"
   ]
  },
  {
   "cell_type": "code",
   "execution_count": 69,
   "id": "783f91f9",
   "metadata": {},
   "outputs": [
    {
     "name": "stdout",
     "output_type": "stream",
     "text": [
      "[[2 4]\n",
      " [3 7]]\n"
     ]
    }
   ],
   "source": [
    "y = np.array([[2, 4], [3, 7]])\n",
    "print(y)"
   ]
  },
  {
   "cell_type": "code",
   "execution_count": 70,
   "id": "1a0012c9",
   "metadata": {},
   "outputs": [
    {
     "data": {
      "text/plain": [
       "array([[ 3,  6],\n",
       "       [ 8, 13]])"
      ]
     },
     "execution_count": 70,
     "metadata": {},
     "output_type": "execute_result"
    }
   ],
   "source": [
    "x + y"
   ]
  },
  {
   "cell_type": "code",
   "execution_count": 72,
   "id": "c3022059",
   "metadata": {},
   "outputs": [
    {
     "data": {
      "text/plain": [
       "array([[ 7,  9],\n",
       "       [ 8, 12]])"
      ]
     },
     "execution_count": 72,
     "metadata": {},
     "output_type": "execute_result"
    }
   ],
   "source": [
    "y + 5"
   ]
  },
  {
   "cell_type": "code",
   "execution_count": 73,
   "id": "413e653f",
   "metadata": {},
   "outputs": [
    {
     "data": {
      "text/plain": [
       "array([[13, 16],\n",
       "       [18, 23]])"
      ]
     },
     "execution_count": 73,
     "metadata": {},
     "output_type": "execute_result"
    }
   ],
   "source": [
    "x + y + 10"
   ]
  },
  {
   "cell_type": "code",
   "execution_count": 75,
   "id": "afaa3353",
   "metadata": {},
   "outputs": [
    {
     "data": {
      "text/plain": [
       "array([[0.3, 0.6],\n",
       "       [0.8, 1.3]])"
      ]
     },
     "execution_count": 75,
     "metadata": {},
     "output_type": "execute_result"
    }
   ],
   "source": [
    "(x + y) / 10"
   ]
  },
  {
   "cell_type": "markdown",
   "id": "d5b76b89",
   "metadata": {},
   "source": [
    "## MUltiplicação de matrizes"
   ]
  },
  {
   "cell_type": "markdown",
   "id": "e13506bc",
   "metadata": {},
   "source": [
    "### Multiplicação elemento a elemento (elemnt-wise)\n",
    "\n",
    "**x * y**\n",
    "multiplicando elemento a elemento:\n",
    "\n",
    "_obs: não é multiplicação de matrizes_\n",
    "\n",
    " Para que a multiplicação elemento a elemento funcione, as matrizes envolvidas devem ter o mesmo tamanho (número de linhas e colunas)"
   ]
  },
  {
   "cell_type": "code",
   "execution_count": 77,
   "id": "f40db999",
   "metadata": {},
   "outputs": [
    {
     "name": "stdout",
     "output_type": "stream",
     "text": [
      "[[1 2]\n",
      " [5 6]]\n",
      "[[2 4]\n",
      " [3 7]]\n"
     ]
    },
    {
     "data": {
      "text/plain": [
       "array([[ 2,  8],\n",
       "       [15, 42]])"
      ]
     },
     "execution_count": 77,
     "metadata": {},
     "output_type": "execute_result"
    }
   ],
   "source": [
    "print(x)\n",
    "print(y)\n",
    "x * y"
   ]
  },
  {
   "cell_type": "markdown",
   "id": "678ea737",
   "metadata": {},
   "source": [
    "### Multiplicação de Matrizes\n",
    "\n",
    "**np.matmul(x, y)** ou  **x @ y** é a multiplicação de matrizes própriamente dita."
   ]
  },
  {
   "cell_type": "code",
   "execution_count": 78,
   "id": "dee7f023",
   "metadata": {},
   "outputs": [
    {
     "data": {
      "text/plain": [
       "array([[ 8, 18],\n",
       "       [28, 62]])"
      ]
     },
     "execution_count": 78,
     "metadata": {},
     "output_type": "execute_result"
    }
   ],
   "source": [
    "np.matmul(x, y)"
   ]
  },
  {
   "cell_type": "code",
   "execution_count": 79,
   "id": "e96c1ea3",
   "metadata": {},
   "outputs": [
    {
     "data": {
      "text/plain": [
       "array([[ 8, 18],\n",
       "       [28, 62]])"
      ]
     },
     "execution_count": 79,
     "metadata": {},
     "output_type": "execute_result"
    }
   ],
   "source": [
    "x @ y"
   ]
  },
  {
   "cell_type": "markdown",
   "id": "b0de1b4a",
   "metadata": {},
   "source": [
    "https://numpy.org/doc/stable/reference/generated/numpy.matmul.html\n",
    "\n",
    "A definição de multiplicação de matrizes indica uma multiplicação linha por coluna, onde as entradas na i-ésima linha de A são multiplicados pelas entradas correspondentes no jth coluna de B e, em seguida, somando os resultados.\n",
    "\n",
    "A multiplicação de matrizes NÃO é comutativa."
   ]
  },
  {
   "cell_type": "markdown",
   "id": "70e68300",
   "metadata": {},
   "source": [
    "#### Produto matricial\n",
    "**np.dot(x, y)**\n",
    "\n",
    " Para matrizes **bidimensionais**, np.dot(x, y) é equivalente a np.matmul(x, y).\n",
    "  Calcula o produto matricial de x e y.\n",
    "\n",
    "https://numpy.org/doc/stable/reference/generated/numpy.dot.html\n",
    "\n",
    "O produto escalar (dot product) é a soma dos produtos dos elementos correspondentes nas duas matrizes. Para obter o produto escalar, o número de colunas da primeira matriz deve ser igual ao número de linhas da segunda matriz.\n"
   ]
  },
  {
   "cell_type": "code",
   "execution_count": 85,
   "id": "9ead3f40",
   "metadata": {},
   "outputs": [
    {
     "data": {
      "text/plain": [
       "array([[ 8, 18],\n",
       "       [28, 62]])"
      ]
     },
     "execution_count": 85,
     "metadata": {},
     "output_type": "execute_result"
    }
   ],
   "source": [
    "np.dot(x, y)"
   ]
  },
  {
   "cell_type": "markdown",
   "id": "4a5ef70c",
   "metadata": {},
   "source": [
    "\n",
    "**np.dot(x, x.T)**: Aqui, x.T é a transposta de x. Esta operação realiza o produto matricial de x com sua transposta. O resultado é uma matriz que representa, de certa forma, o \"produto escalar\" da matriz com ela mesma, mas em termos de suas linhas ou colunas, dependendo da orientação da multiplicação.\n"
   ]
  },
  {
   "cell_type": "code",
   "execution_count": 87,
   "id": "48726c8f",
   "metadata": {},
   "outputs": [
    {
     "data": {
      "text/plain": [
       "array([[ 5, 17],\n",
       "       [17, 61]])"
      ]
     },
     "execution_count": 87,
     "metadata": {},
     "output_type": "execute_result"
    }
   ],
   "source": [
    "np.dot(x, x.T)"
   ]
  },
  {
   "cell_type": "markdown",
   "id": "e6f45f6a",
   "metadata": {},
   "source": [
    "#### Magnitude da Matriz\n",
    "\n",
    "**np.sqrt(np.sum(x ** 2))**: Esta expressão calcula a norma Frobenius da matriz x. Primeiro, eleva cada elemento de x ao quadrado e soma todos esses quadrados. Em seguida, calcula a raiz quadrada do resultado. Isso dá uma medida geral da magnitude da matriz x."
   ]
  },
  {
   "cell_type": "code",
   "execution_count": 89,
   "id": "9a534ae3",
   "metadata": {},
   "outputs": [
    {
     "name": "stdout",
     "output_type": "stream",
     "text": [
      "8.12403840463596\n"
     ]
    }
   ],
   "source": [
    "mag = np.sqrt(np.sum(x ** 2))\n",
    "print(mag)"
   ]
  },
  {
   "cell_type": "markdown",
   "id": "65384b56",
   "metadata": {},
   "source": [
    "**np.cross(x, y)**: Esta operação calcula o produto vetorial (ou produto cruzado) de x e y. Como x e y são matrizes 2x2, a função np.cross tratará as linhas de cada matriz como vetores e calculará o produto vetorial linha a linha.\n"
   ]
  },
  {
   "cell_type": "code",
   "execution_count": 90,
   "id": "0a944d32",
   "metadata": {},
   "outputs": [
    {
     "name": "stderr",
     "output_type": "stream",
     "text": [
      "/tmp/ipykernel_2402442/2907437548.py:1: DeprecationWarning: Arrays of 2-dimensional vectors are deprecated. Use arrays of 3-dimensional vectors instead. (deprecated in NumPy 2.0)\n",
      "  np.cross(x, y)\n"
     ]
    },
    {
     "data": {
      "text/plain": [
       "array([ 0, 17])"
      ]
     },
     "execution_count": 90,
     "metadata": {},
     "output_type": "execute_result"
    }
   ],
   "source": [
    "np.cross(x, y)"
   ]
  },
  {
   "cell_type": "markdown",
   "id": "ac6876ae",
   "metadata": {},
   "source": [
    "## Conceitos de Broadcasting do NumPy\n",
    "Broadcasting no NumPy é um recurso que permite que operações aritméticas sejam realizadas em arrays de diferentes formas e tamanhos.\n",
    "\n",
    "Esse processo envolve automaticamente \"estender\" um ou ambos os arrays envolvidos na operação para que eles tenham a mesma forma, permitindo assim que as operações sejam realizadas de maneira elementar."
   ]
  },
  {
   "cell_type": "markdown",
   "id": "437160ec",
   "metadata": {},
   "source": [
    "### Regras de Broadcasting\n",
    "\n",
    "- Se os arrays não tiverem o mesmo número de dimensões, a forma do array com menos dimensões é preenchida com uns à esquerda.\n",
    "\n",
    "- Se o tamanho das dimensões corresponder ou se uma das dimensões for 1, o broadcasting será aplicado. Se uma dimensão de um array for 1 e a do outro array for maior que 1, o primeiro array se comportará como se tivesse o tamanho da maior dimensão.\n",
    "\n",
    "- Se em qualquer dimensão os tamanhos forem diferentes e nenhum deles for 1, ocorrerá um erro, pois o broadcasting não pode ser aplicado."
   ]
  }
 ],
 "metadata": {
  "kernelspec": {
   "display_name": "Python 3",
   "language": "python",
   "name": "python3"
  },
  "language_info": {
   "codemirror_mode": {
    "name": "ipython",
    "version": 3
   },
   "file_extension": ".py",
   "mimetype": "text/x-python",
   "name": "python",
   "nbconvert_exporter": "python",
   "pygments_lexer": "ipython3",
   "version": "3.10.12"
  }
 },
 "nbformat": 4,
 "nbformat_minor": 5
}
