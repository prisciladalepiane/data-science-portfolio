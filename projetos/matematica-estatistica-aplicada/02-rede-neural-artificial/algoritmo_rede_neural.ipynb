{
 "cells": [
  {
   "cell_type": "code",
   "execution_count": null,
   "id": "29b526b9",
   "metadata": {},
   "outputs": [],
   "source": [
    "import numpy as np  "
   ]
  },
  {
   "cell_type": "code",
   "execution_count": null,
   "id": "b13441d7",
   "metadata": {},
   "outputs": [],
   "source": [
    "class AlgoritmoRedeNeural:\n",
    "\n",
    "    # Método construtor\n",
    "    def __init__(self, taxa_aprendizado, num_interacoes):\n",
    "        self.taxa_aprendizado = taxa_aprendizado\n",
    "        self.num_interacoes = num_interacoes\n",
    "\n",
    "        self.pesos = None\n",
    "        self.bias = None\n",
    "\n",
    "    def func_sigmoid(self, pred):\n",
    "       sig = 1/(1+np.exp(-pred))\n",
    "       return sig \n",
    "    \n",
    "    def fit(self, X, y):\n",
    "\n",
    "        num_registro, num_atributos = X.shape\n",
    "\n",
    "        self.pesos = np.zeros(num_atributos)\n",
    "\n",
    "        self.bias = 0"
   ]
  }
 ],
 "metadata": {
  "language_info": {
   "name": "python"
  }
 },
 "nbformat": 4,
 "nbformat_minor": 5
}
