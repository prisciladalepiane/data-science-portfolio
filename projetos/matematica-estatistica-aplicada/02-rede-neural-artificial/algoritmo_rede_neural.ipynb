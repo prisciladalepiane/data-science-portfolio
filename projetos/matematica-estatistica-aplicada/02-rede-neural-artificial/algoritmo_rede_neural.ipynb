{
 "cells": [
  {
   "cell_type": "code",
   "execution_count": null,
   "id": "29b526b9",
   "metadata": {},
   "outputs": [],
   "source": [
    "import numpy as np  "
   ]
  },
  {
   "cell_type": "code",
   "execution_count": null,
   "id": "b13441d7",
   "metadata": {},
   "outputs": [],
   "source": [
    "class AlgoritmoRedeNeural:\n",
    "\n",
    "    # Método construtor\n",
    "    def __init__(self, taxa_aprendizado, num_interacoes):\n",
    "        self.taxa_aprendizado = taxa_aprendizado\n",
    "        self.num_interacoes = num_interacoes\n",
    "\n",
    "        self.pesos = None\n",
    "        self.bias = None\n",
    "\n",
    "    def func_sigmoid(self, pred):\n",
    "       sig = 1/(1+np.exp(-pred))\n",
    "       return sig \n",
    "    \n",
    "    def fit(self, X, y):\n",
    "\n",
    "        num_registro, num_atributos = X.shape\n",
    "\n",
    "        self.pesos = np.zeros(num_atributos)\n",
    "\n",
    "        self.bias = 0\n",
    "\n",
    "        for i in range(self.num_interacoes):\n",
    "            \n",
    "            print(f\"Iteração {i+1}/{self.num_interacoes}\")\n",
    "\n",
    "            ## 1- Foward pass\n",
    "            previsao = np.dot(X, self.pesos) + self.bias\n",
    "            print(f\"Previsão: {previsao}\")\n",
    "            previsao_final = self.func_sigmoid(previsao)\n",
    "            print(f\"Previsão Sigmoid: {previsao_final}\")\n",
    "\n",
    "            # Cálculo do erro\n",
    "            erro = y - previsao_final\n",
    "            print(f\"Erro: {erro}\")\n",
    "\n",
    "            ## 2- Backward pass\n",
    "            # Calculando o gradiente (derivada da função de custo em relação aos pesos e bias)\n",
    "            dw = (1/num_registro) * np.dot(X.T, erro)\n",
    "            db = (1/num_registro) * np.sum(erro * previsao_final - y)\n",
    "\n",
    "            # Atualização dos pesos e bias\n",
    "            # pesos - taxa_aprendizado * gradiente\n",
    "            self.pesos -= self.taxa_aprendizado * dw\n",
    "            self.bias -= self.taxa_aprendizado * db\n",
    "\n",
    "            print(f\"Pesos atualizados: {self.pesos}\")\n",
    "            print(f\"Bias atualizado: {self.bias}\")\n",
    "\n",
    "        print(\"Treinamento concluído.\")"
   ]
  }
 ],
 "metadata": {
  "language_info": {
   "name": "python"
  }
 },
 "nbformat": 4,
 "nbformat_minor": 5
}
