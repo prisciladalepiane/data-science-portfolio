{
 "cells": [
  {
   "cell_type": "markdown",
   "id": "33ef716d",
   "metadata": {},
   "source": [
    "# Matrizes"
   ]
  },
  {
   "cell_type": "code",
   "execution_count": 31,
   "id": "890b35b5",
   "metadata": {},
   "outputs": [],
   "source": [
    "# Imports\n",
    "import numpy as np\n",
    "import sympy as sym"
   ]
  },
  {
   "cell_type": "markdown",
   "id": "9395b981",
   "metadata": {},
   "source": [
    "## Transposta de matriz com Numpy"
   ]
  },
  {
   "cell_type": "code",
   "execution_count": 5,
   "id": "690ddd1e",
   "metadata": {},
   "outputs": [],
   "source": [
    "m = np.array([[1,2,3,4], [5,6,7,8], [9,10,11,12]])\n",
    "m_t = m.T"
   ]
  },
  {
   "cell_type": "code",
   "execution_count": 6,
   "id": "2c77abd2",
   "metadata": {},
   "outputs": [
    {
     "name": "stdout",
     "output_type": "stream",
     "text": [
      "Matriz Original:\n",
      "[[ 1  2  3  4]\n",
      " [ 5  6  7  8]\n",
      " [ 9 10 11 12]]\n",
      "\n",
      "Matriz Transposta:\n",
      "[[ 1  5  9]\n",
      " [ 2  6 10]\n",
      " [ 3  7 11]\n",
      " [ 4  8 12]]\n"
     ]
    }
   ],
   "source": [
    "print(\"Matriz Original:\")\n",
    "print(m)\n",
    "print(\"\\nMatriz Transposta:\")\n",
    "print(m_t)"
   ]
  },
  {
   "cell_type": "markdown",
   "id": "5dd0372c",
   "metadata": {},
   "source": [
    "Atenção: ao alterar um valor na matriz transposta salva, o valor é alterado também na matriz original."
   ]
  },
  {
   "cell_type": "code",
   "execution_count": 7,
   "id": "1b34fefc",
   "metadata": {},
   "outputs": [
    {
     "name": "stdout",
     "output_type": "stream",
     "text": [
      "Matriz Transposta:\n",
      "[[  1   5 200]\n",
      " [  2   6  10]\n",
      " [  3   7  11]\n",
      " [  4   8  12]]\n",
      "Matriz Original:\n",
      "[[  1   2   3   4]\n",
      " [  5   6   7   8]\n",
      " [200  10  11  12]]\n"
     ]
    }
   ],
   "source": [
    "m_t[0, 2] = 200\n",
    "print(\"Matriz Transposta:\")\n",
    "print(m_t)\n",
    "\n",
    "print(\"Matriz Original:\")\n",
    "print(m)"
   ]
  },
  {
   "cell_type": "markdown",
   "id": "830fdeb7",
   "metadata": {},
   "source": [
    "Para evitar que altere a matriz original, usa-se `.copy()`"
   ]
  },
  {
   "cell_type": "code",
   "execution_count": 9,
   "id": "4d1ca3db",
   "metadata": {},
   "outputs": [],
   "source": [
    "m_t = m.T.copy()"
   ]
  },
  {
   "cell_type": "code",
   "execution_count": 10,
   "id": "ef5c1a9c",
   "metadata": {},
   "outputs": [
    {
     "name": "stdout",
     "output_type": "stream",
     "text": [
      "Matriz Transposta:\n",
      "[[ 1  5 29]\n",
      " [ 2  6 10]\n",
      " [ 3  7 11]\n",
      " [ 4  8 12]]\n",
      "Matriz Original:\n",
      "[[  1   2   3   4]\n",
      " [  5   6   7   8]\n",
      " [200  10  11  12]]\n"
     ]
    }
   ],
   "source": [
    "m_t[0, 2] = 29\n",
    "\n",
    "print(\"Matriz Transposta:\")\n",
    "print(m_t)\n",
    "print(\"Matriz Original:\")\n",
    "print(m)"
   ]
  },
  {
   "cell_type": "markdown",
   "id": "d4d4d7cb",
   "metadata": {},
   "source": [
    "### Exemplo do uso da transposta em Algoritmos de redes neurais"
   ]
  },
  {
   "cell_type": "code",
   "execution_count": 15,
   "id": "076c8859",
   "metadata": {},
   "outputs": [
    {
     "data": {
      "text/plain": [
       "(1, 4)"
      ]
     },
     "execution_count": 15,
     "metadata": {},
     "output_type": "execute_result"
    }
   ],
   "source": [
    "inputs = np.array([[-0.24, 0.52, 0.13, 0.27]])\n",
    "inputs.shape"
   ]
  },
  {
   "cell_type": "code",
   "execution_count": 20,
   "id": "ba0e2cda",
   "metadata": {},
   "outputs": [
    {
     "name": "stdout",
     "output_type": "stream",
     "text": [
      "[[ 0.02   0.001 -0.03   0.036]\n",
      " [ 0.01   0.02   0.03  -0.04 ]\n",
      " [-0.02   0.03   0.01   0.02 ]]\n"
     ]
    },
    {
     "data": {
      "text/plain": [
       "(3, 4)"
      ]
     },
     "execution_count": 20,
     "metadata": {},
     "output_type": "execute_result"
    }
   ],
   "source": [
    "pesos = np.array([[0.02, 0.001, -0.03, 0.036], \n",
    "                 [0.01, 0.02, 0.03, -0.04], \n",
    "                 [-0.02, 0.03, 0.01, 0.02]])\n",
    "print(pesos)\n",
    "pesos.shape"
   ]
  },
  {
   "cell_type": "markdown",
   "id": "1f2a9fdf",
   "metadata": {},
   "source": [
    "Os pesos são multiplicados aos inputs nas camadas das redes neurais, logo precisamos multiplicar pesos por inputs. \n",
    "\n",
    "Para multiplicar pelo pelos pesos é necessário fazer a transposta da matriz para que o shape das matrizes sejam compatíveis."
   ]
  },
  {
   "cell_type": "code",
   "execution_count": 24,
   "metadata": {},
   "outputs": [
    {
     "data": {
      "text/plain": [
       "array([[0.00154, 0.0011 , 0.0271 ]])"
      ]
     },
     "execution_count": 24,
     "metadata": {},
     "output_type": "execute_result"
    }
   ],
   "source": [
    "np.matmul(inputs, pesos.T)"
   ]
  },
  {
   "cell_type": "markdown",
   "id": "95992edd",
   "metadata": {},
   "source": [
    "Também funciona com a transposta da matriz de inputs trocando a ordem dos fatores:"
   ]
  },
  {
   "cell_type": "code",
   "execution_count": 25,
   "id": "414eca4b",
   "metadata": {},
   "outputs": [
    {
     "data": {
      "text/plain": [
       "array([[0.00154],\n",
       "       [0.0011 ],\n",
       "       [0.0271 ]])"
      ]
     },
     "execution_count": 25,
     "metadata": {},
     "output_type": "execute_result"
    }
   ],
   "source": [
    "np.matmul(pesos, inputs.T)"
   ]
  },
  {
   "cell_type": "markdown",
   "id": "b577bd28",
   "metadata": {},
   "source": [
    "## Determinante de Matriz"
   ]
  },
  {
   "cell_type": "markdown",
   "id": "0a72ef2a",
   "metadata": {},
   "source": [
    "\n",
    "O determinante de uma matriz é um valor que pode ser calculado a partir dos elementos de uma matriz quadrada.\n",
    "\n",
    "Este valor é muito importante em diversas áreas da Matemática e Ciência de Dados, pois possui várias aplicações práticas e teóricas.\n",
    "\n",
    "### Matriz 2×2\n",
    "\n",
    "Dada a matriz:\n",
    "\n",
    "$$\n",
    "A = \\begin{bmatrix}\n",
    "a & b \\\\\n",
    "c & d\n",
    "\\end{bmatrix}\n",
    "$$\n",
    "\n",
    "O determinante é calculado como:\n",
    "\n",
    "$$\n",
    "\\det(A) = ad - bc\n",
    "$$\n",
    "\n",
    "### Propriedades\n",
    "\n",
    "- O determinante de uma matriz identidade é sempre 1.\n",
    "\n",
    "- Multiplicar uma linha de uma matriz por um escalar multiplica o determinante pelo mesmo escalar.\n",
    "\n",
    "- Se você trocar duas linhas de uma matriz, o determinante muda de sinal.\n",
    "\n",
    "- O determinante de uma matriz é zero se as linhas ou colunas são linearmente dependentes (ou seja, uma linha ou coluna pode ser expressa como uma combinação linear das outras).\n",
    "\n",
    "\n",
    "### Aplicações em Matrizes\n",
    "\n",
    "- **Inversão de Matriz**: Uma matriz quadrada é invertível se e apenas se seu determinante não é zero.\n",
    "\n",
    "- **Solução de Sistemas Lineares**: O método de Cramer usa determinantes para resolver sistemas de equações lineares.\n",
    "\n",
    "- **Geometria**: O determinante pode ser usado para calcular a área (em 2D) ou volume (em 3D) de formas geométricas definidas por pontos.\n",
    "\n",
    "\n",
    "### Cálculo de Matrizes Maiores\n",
    "\n",
    "Para matrizes maiores que 3x3, o cálculo do determinante envolve a decomposição da matriz em matrizes menores (método de expansão por cofatores) ou utilizando operações de linha para transformá-la em uma forma mais simples (como a forma escalonada)."
   ]
  },
  {
   "cell_type": "markdown",
   "id": "74d0f55b",
   "metadata": {},
   "source": [
    "### Calculando Determinante com NumPy e SymPy\n",
    "\n",
    "Usando NumPy:"
   ]
  },
  {
   "cell_type": "code",
   "execution_count": 37,
   "id": "9441c145",
   "metadata": {},
   "outputs": [],
   "source": [
    "# matrix 2x2\n",
    "ma = np.array([[1, 3], [3, 3]])"
   ]
  },
  {
   "cell_type": "code",
   "execution_count": 38,
   "id": "7ff20b2d",
   "metadata": {},
   "outputs": [
    {
     "name": "stdout",
     "output_type": "stream",
     "text": [
      "-6.0\n"
     ]
    }
   ],
   "source": [
    "det_1 = np.linalg.det(ma)\n",
    "print(det_1)"
   ]
  },
  {
   "cell_type": "markdown",
   "id": "9083d9ae",
   "metadata": {},
   "source": [
    "Usando o SymPy:"
   ]
  },
  {
   "cell_type": "code",
   "execution_count": null,
   "id": "9c37f0f4",
   "metadata": {},
   "outputs": [
    {
     "name": "stdout",
     "output_type": "stream",
     "text": [
      "-6\n"
     ]
    }
   ],
   "source": [
    "ma_sym = sym.Matrix(ma)\n",
    "det_2 = ma_sym.det()\n",
    "print(det_2)"
   ]
  },
  {
   "cell_type": "markdown",
   "id": "896c932f",
   "metadata": {},
   "source": [
    "Fórmula do determinante:"
   ]
  },
  {
   "cell_type": "code",
   "execution_count": 42,
   "id": "e5368c22",
   "metadata": {},
   "outputs": [
    {
     "name": "stdout",
     "output_type": "stream",
     "text": [
      "Matriz A:\n",
      "[['a' 'b']\n",
      " ['c' 'd']]\n"
     ]
    }
   ],
   "source": [
    "A = np.array([['a', 'b'], ['c', 'd']])\n",
    "print(\"Matriz A:\")\n",
    "print(A)"
   ]
  },
  {
   "cell_type": "markdown",
   "id": "34957dd0",
   "metadata": {},
   "source": [
    "A Fórmula para o determinante de uma matriz 2x2 é:\n",
    "\n",
    "Det(A) = ad - bc"
   ]
  },
  {
   "cell_type": "code",
   "execution_count": 44,
   "id": "caa79b03",
   "metadata": {},
   "outputs": [
    {
     "name": "stdout",
     "output_type": "stream",
     "text": [
      "[[1 2]\n",
      " [3 4]]\n"
     ]
    }
   ],
   "source": [
    "matriz = np.array([[1, 2], [3, 4]])\n",
    "print(matriz)"
   ]
  },
  {
   "cell_type": "code",
   "execution_count": 45,
   "id": "c27e5ff5",
   "metadata": {},
   "outputs": [
    {
     "name": "stdout",
     "output_type": "stream",
     "text": [
      "-2\n"
     ]
    }
   ],
   "source": [
    "det_3 = (1 * 4) - (2 * 3)\n",
    "print(det_3)"
   ]
  },
  {
   "cell_type": "markdown",
   "id": "514da6bb",
   "metadata": {},
   "source": [
    "Fórmula para outras dimensões:\n",
    "\n",
    "https://www.mathsisfun.com/algebra/matrix-determinant.html"
   ]
  }
 ],
 "metadata": {
  "kernelspec": {
   "display_name": "Python 3",
   "language": "python",
   "name": "python3"
  },
  "language_info": {
   "codemirror_mode": {
    "name": "ipython",
    "version": 3
   },
   "file_extension": ".py",
   "mimetype": "text/x-python",
   "name": "python",
   "nbconvert_exporter": "python",
   "pygments_lexer": "ipython3",
   "version": "3.10.12"
  }
 },
 "nbformat": 4,
 "nbformat_minor": 5
}
