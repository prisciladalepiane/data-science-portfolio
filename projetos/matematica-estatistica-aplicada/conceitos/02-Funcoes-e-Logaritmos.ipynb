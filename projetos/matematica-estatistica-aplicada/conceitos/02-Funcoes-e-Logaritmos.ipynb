{
 "cells": [
  {
   "cell_type": "markdown",
   "id": "83cee6d2",
   "metadata": {},
   "source": [
    "# Funções e Logaritimos em Python"
   ]
  },
  {
   "cell_type": "markdown",
   "id": "5ce7968f",
   "metadata": {},
   "source": [
    "## Funções\n",
    "### Definindo Funções em Matemática\n",
    "\n",
    "$f: X \\rightarrow Y$\n",
    "\n",
    "No contexto da Matemática, uma função estabelece uma relação específica entre dois conjunto de elementos, \n",
    "conhecídos como domínio e contradomínio. Uma função associa a cada elemento do domínio exatamente um elemento do contradomínio. Essa relação é descrita como um \"mapeamento\" dos elementos de um conjunto para outro.\n",
    "O domínio é o conjunto de entradas possíveis e o contradomínio é o conjunto de saídas potenciais. \n",
    "A **função** atua como **regra** que determina como cada entrada é transformada em uma saída. \n",
    "\n",
    "**Domínio:** O conjunto de todos os possíveis valores de entrada para as quais a função está definida, ou seja, é o conjunto de todos os valores que você pode inserir na função. \n",
    "\n",
    "**Imagem:** O conjunto de valores de saída que a função pode produzir. QUando falamos de imagem, estamos nos referindo especificamente aos resultados que realmente ocorrem dada a função e seu domímio. \n",
    "\n",
    "**Contradomínio:** O conjunto de todos os possíveis valores de saída que a função poderia teoricamente produzir, independentemente se eles ocorrem ou não. É o conjunto de referência que inclui todas as saídas potenciais."
   ]
  },
  {
   "cell_type": "markdown",
   "id": "f19dfbd5",
   "metadata": {},
   "source": [
    "### Funções na Matemática x Funções em Programação de Computadores\n",
    "Em programação, uma função é um bloco de código projetado para realizar uma tarefa específica. Podem retornar valores, mas também podem realizar ações sem retorno. Podem aceitar diversos tipos de entrada, incluindo outras funções, e podem produzir diferentes saídas baseadas em lógicas condicional ou iterações.\n",
    "\n",
    "Enquanto as funções matemáticas são teóricas, as funções em programação são usadas para construir software e resolver problemas práticos. \n",
    "\n",
    "Exemplo de função em matemática:\n",
    "\n",
    "ax + b = 0"
   ]
  },
  {
   "cell_type": "code",
   "execution_count": 1,
   "id": "aee59d94",
   "metadata": {},
   "outputs": [
    {
     "data": {
      "text/plain": [
       "'A solução da equação é x = -2.0.'"
      ]
     },
     "execution_count": 1,
     "metadata": {},
     "output_type": "execute_result"
    }
   ],
   "source": [
    "# Exemplo de função em programação:\n",
    "def resolve_linear(a,b):\n",
    "    if a ==0:\n",
    "        if b == 0:\n",
    "            return \"A equação tem infinitas soluções.\"\n",
    "        else:\n",
    "            return \"A equação não tem solução.\"\n",
    "    else:\n",
    "        return f\"A solução da equação é x = {-b/a}.\"\n",
    "    \n",
    "resolve_linear(2, 4)"
   ]
  },
  {
   "cell_type": "markdown",
   "id": "fcf8244b",
   "metadata": {},
   "source": [
    "Podemos usar função em computadores para resolver uma função matemática, porém são coisas diferentes."
   ]
  },
  {
   "cell_type": "markdown",
   "id": "4f676415",
   "metadata": {},
   "source": [
    "### Representação Gráfica de Funções\n",
    "\n",
    "Exemplo para função quadrática $f(x) = x²$"
   ]
  },
  {
   "cell_type": "code",
   "execution_count": 3,
   "id": "d1d65d4b",
   "metadata": {},
   "outputs": [],
   "source": [
    "import numpy as np\n",
    "import matplotlib.pyplot as plt"
   ]
  },
  {
   "cell_type": "code",
   "execution_count": 4,
   "id": "d12522b9",
   "metadata": {},
   "outputs": [],
   "source": [
    "# Definindo a função f(x) = x^2\n",
    "def f(x):\n",
    "    return x ** 2"
   ]
  },
  {
   "cell_type": "code",
   "execution_count": 5,
   "id": "41cea512",
   "metadata": {},
   "outputs": [],
   "source": [
    "x = np.linspace(-10, 10, 400)  # Gera 400 pontos entre -10 e 10\n",
    "y = f(x)  # Calcula os valores de f(x)"
   ]
  },
  {
   "cell_type": "code",
   "execution_count": null,
   "id": "d7d98296",
   "metadata": {},
   "outputs": [],
   "source": [
    "# PLota o grafico da função\n",
    "plt.figure(figsize=(4, 2.5))  # Define o tamanho da figura\n",
    "plt.plot(x, y, label='f(x) = x^2') \n",
    "plt.title('Gráfico da Função Quadrática') \n",
    "plt.xlabel('x') \n",
    "plt.ylabel('f(x)')  \n",
    "plt.legend()  \n",
    "plt.show() "
   ]
  },
  {
   "cell_type": "markdown",
   "id": "cb5dd5f3",
   "metadata": {},
   "source": [
    "## Seno, Cosseno e Tangente\n",
    "Comumente encontrada na trigonometria, um ramo da Matemática que lida com as relações entre os lados e os ângulos dos triângulos. "
   ]
  },
  {
   "cell_type": "markdown",
   "id": "5c98ea55",
   "metadata": {},
   "source": [
    "> Seno é a razão entre o comprimento  do cateto oposto e da hipotenuza de um triangulo retângulo. (SOH)"
   ]
  },
  {
   "cell_type": "code",
   "execution_count": 36,
   "id": "19325618",
   "metadata": {},
   "outputs": [
    {
     "name": "stdout",
     "output_type": "stream",
     "text": [
      "O seno de 30 graus é: 0.49999999999999994\n"
     ]
    }
   ],
   "source": [
    "import math\n",
    "angulo_graus = 30\n",
    "\n",
    "# Converte graus para radianos\n",
    "angulo_radianos = math.radians(angulo_graus)\n",
    "\n",
    "# Calcula o seno do ângulo\n",
    "seno = math.sin(angulo_radianos)\n",
    "print(f\"O seno de {angulo_graus} graus é: {seno}\")"
   ]
  },
  {
   "cell_type": "markdown",
   "id": "b74b665a",
   "metadata": {},
   "source": [
    "> Cosseno é a razão do comprimento do cateto adjacente e a hipotenuza. (CAH)"
   ]
  },
  {
   "cell_type": "code",
   "execution_count": 37,
   "id": "05e33645",
   "metadata": {},
   "outputs": [
    {
     "name": "stdout",
     "output_type": "stream",
     "text": [
      "O cosseno de 30 graus é: 0.8660254037844387\n"
     ]
    }
   ],
   "source": [
    "cosseno = math.cos(angulo_radianos)\n",
    "print(f\"O cosseno de {angulo_graus} graus é: {cosseno}\")"
   ]
  },
  {
   "cell_type": "markdown",
   "id": "70ef4c78",
   "metadata": {},
   "source": [
    "> Tangente: é a razão entre o comprimento do lado oposto e o comprimento do lado adjacente. (TOA)"
   ]
  },
  {
   "cell_type": "code",
   "execution_count": 38,
   "id": "86c6abad",
   "metadata": {},
   "outputs": [
    {
     "name": "stdout",
     "output_type": "stream",
     "text": [
      "A tangente de 30 graus é: 0.5773502691896257\n"
     ]
    }
   ],
   "source": [
    "tangente = math.tan(angulo_radianos)\n",
    "print(f\"A tangente de {angulo_graus} graus é: {tangente}\")"
   ]
  },
  {
   "cell_type": "markdown",
   "id": "5d347f19",
   "metadata": {},
   "source": [
    "### Aplicação\n"
   ]
  },
  {
   "cell_type": "markdown",
   "id": "43dd7f3f",
   "metadata": {},
   "source": [
    "\n",
    "Seno e cosseno ajudam o modelo a entender quando as coisas se repetem, como os ponteiros do relógio. Com eles, o computador consegue “ver” padrões cíclicos que seriam invisíveis com números simples.\n",
    "\n",
    "Nos modelos \"*Transformers*\", utilizados em Processamento de Linguagem Natural e outras tarefas de aprendizado de máquina como LLMs (Large Language Models), a função seno (junto com a função cosseno) desempenha um papel importante na criação de *positional encodings**.\n",
    "\n",
    "\n",
    "Problema: *Transformers* não entendem ordem\n",
    "tratam uma sequência de palavras como um conjunto de vetores simultâneos, eles veem \"gato\", \"comeu\", \"peixe\", mas não sabem em que ordem vieram. Isso acontece porque:\n",
    "\n",
    "Diferente de *RNNs* (que leem palavra por palavra em sequência), *Transformers* processam tudo em paralelo.\n",
    "\n",
    "Isso é eficiente, mas perde a noção de posição das palavras.\n",
    "\n",
    "Solução: Positional Encoding\n",
    "**Positional encodings* (ou codificações posicionais) são uma forma de informar ao modelo onde cada palavra ou elemento está localizada em uma sequência. Elas são essenciais em modelos de transformers, como o GPT, porque esses modelos não têm noção de ordem por padrão. \n",
    "\n",
    "Para resolver isso, o modelo precisa de uma forma de incorporar a posição de cada palavra no vetor que a representa.\n",
    "\n",
    "É aí que entra a codificação posicional com seno e cosseno.\n",
    "\n",
    "Os criadores do Transformer (Vaswani et al., 2017) propuseram usar funções seno e cosseno com diferentes frequências para gerar vetores únicos para cada posição. Paper original de pesquisa:\n",
    "\n",
    "https://arxiv.org/pdf/1706.03762.pdf\n",
    "\n",
    "Porque Seno e Cosseno?\n",
    "\n",
    "- Uniformidade e Diferenciação: Padrão fácil de entender, as funções seno e cosseno seguem um ritmo suave e previsível, como ondas. Isso ajuda o modelo a reconhecer onde cada palavra está na frase e perceber padrões de posição com facilidade.\n",
    "\n",
    "- Generalização para Sequências Longas: Funciona mesmo com frases mais longas, como essas funções sempre seguem o mesmo comportamento, o modelo consegue lidar com frases maiores do que as que viu durante o treino, ele entende novas posições sem precisar aprender tudo de novo.\n",
    "\n",
    "- Preservação da Relação Linear: Mostra a distância entre palavras, a combinação de seno e cosseno permite que o modelo perceba quão próximas ou distantes duas palavras estão dentro da frase, o que é muito importante para decidir quais palavras devem prestar atenção umas às outras.\n",
    "\n"
   ]
  },
  {
   "cell_type": "markdown",
   "id": "36a2df7d",
   "metadata": {},
   "source": [
    "## Logaritmos e Logaritmos Naturais\n"
   ]
  },
  {
   "cell_type": "markdown",
   "id": "e01dbeb4",
   "metadata": {},
   "source": [
    "### Definição\n",
    "\n",
    "Logaritmo é uma operação matemática que representa o oposto da exponenciação.\n",
    "É uma função que retorna o número ao qual a base precisa ser elevada para obter o logaritmando.\n",
    "\n",
    "$ \\log_b(y) = x \\quad \\Leftrightarrow \\quad b^x = y $"
   ]
  },
  {
   "cell_type": "markdown",
   "id": "9fac3c4a",
   "metadata": {},
   "source": [
    "Os logaritmos naturais são usados em muitas áreas da ciência, engenharia e matemática para simplificar cálculos complexos, pois transformam operações de multiplicação em adição e divisão em subtração.\n",
    "\n",
    "**Logaritmo Natural** (`ln(x)`)\n",
    "\n",
    "- O logaritmo natural tem base **e ≈ 2,718**, um número irracional relacionado a crescimento contínuo.\n",
    "- Aparece em fenômenos como:\n",
    "  - Juros compostos contínuos\n",
    "  - Crescimento populacional\n",
    "  - Cálculo diferencial e integral\n",
    "\n",
    "Se $ e^x = y $, então $ ln(y) = x $\n",
    "\n"
   ]
  },
  {
   "cell_type": "code",
   "execution_count": 73,
   "id": "c9331b11",
   "metadata": {},
   "outputs": [
    {
     "name": "stdout",
     "output_type": "stream",
     "text": [
      "[0.69314718 1.38629436 2.07944154 2.77258872 3.4657359 ]\n"
     ]
    }
   ],
   "source": [
    "import numpy as np\n",
    "\n",
    "# Exemplo de cálculo do logaritmo natural\n",
    "x = [2, 4, 8, 16, 32]  # Lista de valores\n",
    "log_x = np.log(x)\n",
    "print(log_x)"
   ]
  },
  {
   "cell_type": "markdown",
   "id": "a12a9b72",
   "metadata": {},
   "source": [
    "**Logaritmo de Base 10** (`log₁₀(x)`)\n",
    "\n",
    "- Usado quando os dados crescem por fatores de **10**.\n",
    "- Aplicações comuns:\n",
    "  - **Escala Richter** (terremotos): cada ponto representa 10× mais energia\n",
    "  - **Circuitos elétricos** e análise de sinais\n",
    "  - **Gráficos log-log e semilog**: úteis para representar grandezas que variam pouco em y mas crescem muito em x\n",
    "\n"
   ]
  },
  {
   "cell_type": "code",
   "execution_count": 74,
   "id": "9bf4df68",
   "metadata": {},
   "outputs": [
    {
     "name": "stdout",
     "output_type": "stream",
     "text": [
      "[0. 1. 2. 3. 4.]\n"
     ]
    }
   ],
   "source": [
    "# Exemplo de cálculo do logaritmo na base 10\n",
    "x = [1, 10, 100, 1000, 10000]  # Lista de valores\n",
    "\n",
    "log10_x = np.log10(x)\n",
    "print(log10_x)"
   ]
  },
  {
   "cell_type": "markdown",
   "id": "fa297216",
   "metadata": {},
   "source": [
    "#### Quando usar Logaritmos?\n"
   ]
  },
  {
   "cell_type": "markdown",
   "id": "d4893154",
   "metadata": {},
   "source": [
    "\n",
    "1. **Dados com distribuição assimétrica:** Para corrigir caudas longas e tornar os dados mais próximos da distribuição normal. Se os dados possuem uma distribuição assimétrica, onde a maioria dos valores está concentrada em uma extremidade, os logs podem ajudar a tornar a distribuição mais simétrica. Isso pode facilitar a aplicação de modelos estatísticos e algoritmos de machine learning.\n",
    "\n",
    "2. **Dados com ampla variação:** Para comprimir escalas e reduzir o impacto de outliers ou ordens de magnitude muito diferentes. Quando os dados possuem uma variação muito grande entre si, os logs podem ser usados para reduzir essa discrepância. Ao aplicar logs aos dados, é possível comprimir a escala dos valores, tornando mais fácil a comparação entre eles.\n",
    "\n",
    "3. **Análise de tendências e crescimentos:**  Para transformar curvas em linhas retas, facilitando modelagem e visualização de tendências. Na análise de tendências e crescimento de dados ao longo do tempo. Ao aplicar log aos dados de crescimento é possível transformar o comportamento exponencial em um comportamento linear. Isso facilita a vizualização e a modelagem desses dados."
   ]
  },
  {
   "cell_type": "markdown",
   "id": "b0062673",
   "metadata": {},
   "source": [
    "#### Como usamos os Log"
   ]
  },
  {
   "cell_type": "markdown",
   "id": "964ddc48",
   "metadata": {},
   "source": [
    "aritmos em Machine Learning e IA?\n",
    "\n",
    "**1. Pré-processamento e Transformação de Dados** \n",
    "Logaritmos são usados para normalizar variáveis com alta assimetria ou escala muito ampla. Isso melhora a estabilidade numérica dos modelos e reduz o impacto de outliers, tornando os dados mais adequados para algoritmos que assumem distribuições mais próximas da normal.\n",
    "Em muitos conjuntos de dados, especialmente aqueles com uma ampla gama de valores (como salários ou preços de casas), aplicar uma transformação logarítmica pode ajudar a normalizar os dados, tornando-os mais adequados para algoritmos de ML que são sensíveis à escala dos dados. Dados com distribuição assimétrica podem ser transformados para uma distribuição normal através do uso de logaritmos, melhorando a eficácia dos algoritmos de ML.\n",
    "\n",
    "**2. Funções de Ativação em Redes Neurais**\n",
    "Em redes neurais, funções de ativação como a log-sigmoid e softmax (que usa logaritmos em sua formulação) são usadas para introduzir não-linearidade no modelo e para normalizar as saídas em probabilidades.\n",
    "\n",
    "**3. Funções de Perdas e Otimização**\n",
    "Na regressão logística, uma variante da regressão linear, a função logarítmica é usada para modelar a probabilidade de uma variável binária.\n",
    "\n",
    "Em classificação, a entropia cruzada, que usa logaritmos, é frequentemente usada como uma função de perda para medir a diferença entre as distribuições de probabilidade previstas e reais.\n",
    "\n",
    "**4. Modelagem Estatística e Análise de Séries Temporais**\n",
    "Transformações logarítmicas podem ser usadas para modelar relações não lineares em Modelos Lineares Generalizados (GLM).\n",
    "Para modelar séries temporais com tendências exponenciais ou variância, transformações logarítmicas são frequentemente aplicadas. São usadas para linearizar relações exponenciais, estabilizar a variância e facilitar a modelagem com técnicas como ARIMA, onde suposições de estacionariedade são importantes.\n",
    "\n",
    "**5. Algoritmos Baseados em Árvores**\n",
    "Em algoritmos como Random Forests ou Gradient Boosting, a transformação logarítmica pode ser usada no processo de engenharia de recursos para lidar com distribuições assimétricas.\n",
    "Em algoritmos como ID3, C4.5 e XGBoost, o logaritmo aparece na cálculo da entropia e do ganho de informação. Esses conceitos medem a incerteza ou pureza de um conjunto de dados, ajudando o modelo a decidir onde fazer divisões (splits) mais informativas.\n",
    "\n",
    "**6. Interpretação e Explicabilidade**\n",
    "Transformações logarítmicas podem tornar a interpretação dos resultados mais intuitiva, especialmente em modelos lineares, onde os coeficientes podem ser interpretados em termos de mudanças percentuais. Por exemplo, um aumento de 1 unidade no log de uma variável pode ser interpretado como um aumento percentual no resultado. Isso é útil para explicar relações em termos mais intuitivos.\n",
    "\n",
    "**7. Análise de Comporntes Principais (PCA)**\n",
    "Em PCA, usado para redução de dimensionalidade, a transformação logarítmica pode ser aplicada para normalizar os dados, especialmente quando eles têm variações de escala significativas.\n",
    "\n",
    "\n",
    "> O uso de logaritmos é fundamental para a transformação e normalização de dados, para a construção e otimização de modelos, e para a interpretação dos resultados.\n",
    "> Eles ajudam a lidar com dados que apresentam variações de escala significativas, assimetrias ou relações não lineares, tornando os modelos de ML mais eficazes e interpretáveis."
   ]
  },
  {
   "cell_type": "markdown",
   "id": "d60b37fd",
   "metadata": {},
   "source": [
    "### Propriedades de Transformação de Logaritmos"
   ]
  },
  {
   "cell_type": "markdown",
   "id": "2fd585f5",
   "metadata": {},
   "source": [
    "\n",
    "\n",
    "#### 1. Produto:\n",
    "$$\n",
    "\\log_b(x \\cdot y) = \\log_b(x) + \\log_b(y)\n",
    "$$\n",
    "\n",
    "#### 2. Quociente:\n",
    "$$\n",
    "\\log_b\\left(\\frac{x}{y}\\right) = \\log_b(x) - \\log_b(y)\n",
    "$$\n",
    "\n",
    "#### 3. Potência:\n",
    "$$\n",
    "\\log_b(x^a) = a \\cdot \\log_b(x)\n",
    "$$\n",
    "\n",
    "#### 4. Raiz:\n",
    "$$\n",
    "\\log_b(\\sqrt[n]{x}) = \\frac{1}{n} \\cdot \\log_b(x)\n",
    "$$\n",
    "\n",
    "#### 5. Mudança de base:\n",
    "$$\n",
    "\\log_b(x) = \\frac{\\log_k(x)}{\\log_k(b)}\n",
    "$$\n",
    "\n",
    "Demonstrando as propriedades de transformação de Logs com python"
   ]
  },
  {
   "cell_type": "code",
   "execution_count": 75,
   "id": "d9cbc0b1",
   "metadata": {},
   "outputs": [
    {
     "name": "stdout",
     "output_type": "stream",
     "text": [
      "Propriedade do Produto: log(a*b) = log(a) + log(b)\n",
      "Logaritmo do Produto: 2.70805020110221 Propriedade: 2.70805020110221\n",
      "\n",
      "Propriedade do Quociente: log(a/b) = log(a) - log(b)\n",
      "Logaritmo do Quociente: 0.5108256237659907 Propriedade: 0.5108256237659905\n",
      "\n",
      "Propriedade da Potência: log(a^c) = c * log(a)\n",
      "Logaritmo da Potência: 3.2188758248682006 Propriedade: 3.2188758248682006\n"
     ]
    }
   ],
   "source": [
    "import math\n",
    "\n",
    "# Definindo números para o exemplo\n",
    "a = 5\n",
    "b = 3\n",
    "c = 2\n",
    "\n",
    "# Calculando logaritmos usando funções Python\n",
    "\n",
    "# Logaritmo do produto\n",
    "log_product = math.log(a * b)\n",
    "\n",
    "# Logaritmo do quociente\n",
    "log_quotient = math.log(a / b)\n",
    "\n",
    "# Logaritmo de uma potência\n",
    "log_power = math.log(a**c)\n",
    "\n",
    "# Demonstrando as propriedades dos logaritmos\n",
    "\n",
    "print(\"Propriedade do Produto: log(a*b) = log(a) + log(b)\")\n",
    "print(\"Logaritmo do Produto:\", log_product, \"Propriedade:\", math.log(a) + math.log(b))\n",
    "\n",
    "print(\"\\nPropriedade do Quociente: log(a/b) = log(a) - log(b)\")\n",
    "print(\"Logaritmo do Quociente:\", log_quotient, \"Propriedade:\", math.log(a) - math.log(b))\n",
    "\n",
    "print(\"\\nPropriedade da Potência: log(a^c) = c * log(a)\")\n",
    "print(\"Logaritmo da Potência:\", log_power, \"Propriedade:\", c * math.log(a))"
   ]
  },
  {
   "cell_type": "markdown",
   "id": "a5970655",
   "metadata": {},
   "source": [
    "### Exemplo de Uso da transformação de Log em Data Science"
   ]
  },
  {
   "cell_type": "code",
   "execution_count": 76,
   "id": "97a043a0",
   "metadata": {},
   "outputs": [
    {
     "data": {
      "image/png": "[encoded data removed]",
      "text/plain": [
       "<Figure size 900x300 with 2 Axes>"
      ]
     },
     "metadata": {},
     "output_type": "display_data"
    }
   ],
   "source": [
    "import numpy as np\n",
    "import matplotlib.pyplot as plt\n",
    "\n",
    "np.random.seed(29) # Semente\n",
    "dados_originais = np.random.lognormal(mean=3, sigma=0.5, size=1000)  # Preços simulados\n",
    "\n",
    "dados_transformados = np.log(precos)\n",
    "\n",
    "# Grafico para comparação\n",
    "plt.figure(figsize=(9, 3))\n",
    "plt.subplot(1, 2, 1)\n",
    "plt.hist(dados_originais, bins=30, color='blue', alpha=0.7)\n",
    "plt.title('Distribuição dos Dados Originais')\n",
    "plt.xlabel('Dados')\n",
    "plt.ylabel('Frequência')    \n",
    "\n",
    "plt.subplot(1, 2, 2)\n",
    "plt.hist(dados_transformados, bins=30, color='green', alpha=0.7)\n",
    "plt.title('Distribuição dos Dados Transformados')\n",
    "plt.xlabel('Log(Dados)')\n",
    "plt.ylabel('Frequência')    \n",
    "plt.show()"
   ]
  },
  {
   "cell_type": "markdown",
   "id": "e8fec0e1",
   "metadata": {},
   "source": [
    "Este exemplo demonstra como podemos aplicar a transformação log para atender a premissa de normalidade de alguns modelos preditivos, cujo algoritmos de machine learning admitem que as variáveis de entrada seguem uma distribuião normal."
   ]
  }
 ],
 "metadata": {
  "kernelspec": {
   "display_name": "Python 3",
   "language": "python",
   "name": "python3"
  },
  "language_info": {
   "codemirror_mode": {
    "name": "ipython",
    "version": 3
   },
   "file_extension": ".py",
   "mimetype": "text/x-python",
   "name": "python",
   "nbconvert_exporter": "python",
   "pygments_lexer": "ipython3",
   "version": "3.10.12"
  }
 },
 "nbformat": 4,
 "nbformat_minor": 5
}
