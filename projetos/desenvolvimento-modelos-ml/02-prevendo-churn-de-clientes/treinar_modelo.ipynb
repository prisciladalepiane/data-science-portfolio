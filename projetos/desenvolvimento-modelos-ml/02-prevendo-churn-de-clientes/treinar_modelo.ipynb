{
 "cells": [
  {
   "cell_type": "markdown",
   "id": "1aee2bfe",
   "metadata": {},
   "source": [
    "# Modelo para prever churn de clientes com RandomForest"
   ]
  },
  {
   "cell_type": "markdown",
   "id": "e0048236",
   "metadata": {},
   "source": [
    "## Pacotes usados"
   ]
  },
  {
   "cell_type": "code",
   "execution_count": 116,
   "id": "c8a75564",
   "metadata": {},
   "outputs": [],
   "source": [
    "import joblib\n",
    "import sklearn\n",
    "import pandas as pd\n",
    "import numpy as np\n",
    "import matplotlib.pyplot as plt\n",
    "import seaborn as sns\n",
    "from sklearn.model_selection import train_test_split, cross_val_score, GridSearchCV\n",
    "from sklearn.metrics import accuracy_score, classification_report\n",
    "from sklearn.preprocessing import StandardScaler, OneHotEncoder\n",
    "from sklearn.ensemble import RandomForestClassifier"
   ]
  },
  {
   "cell_type": "code",
   "execution_count": 37,
   "id": "16a9bd9f",
   "metadata": {},
   "outputs": [],
   "source": [
    "sns.set_theme(style=\"whitegrid\")\n",
    "plt.rcParams['figure.figsize'] = (7, 3.5)"
   ]
  },
  {
   "cell_type": "markdown",
   "id": "8630fb07",
   "metadata": {},
   "source": [
    "## Dados"
   ]
  },
  {
   "cell_type": "code",
   "execution_count": 12,
   "id": "5e30ead6",
   "metadata": {},
   "outputs": [
    {
     "data": {
      "text/html": [
       "<div>\n",
       "<style scoped>\n",
       "    .dataframe tbody tr th:only-of-type {\n",
       "        vertical-align: middle;\n",
       "    }\n",
       "\n",
       "    .dataframe tbody tr th {\n",
       "        vertical-align: top;\n",
       "    }\n",
       "\n",
       "    .dataframe thead th {\n",
       "        text-align: right;\n",
       "    }\n",
       "</style>\n",
       "<table border=\"1\" class=\"dataframe\">\n",
       "  <thead>\n",
       "    <tr style=\"text-align: right;\">\n",
       "      <th></th>\n",
       "      <th>Idade</th>\n",
       "      <th>UsoMensal</th>\n",
       "      <th>Plano</th>\n",
       "      <th>SatisfacaoCliente</th>\n",
       "      <th>TempoContrato</th>\n",
       "      <th>ValorMensal</th>\n",
       "      <th>Churn</th>\n",
       "    </tr>\n",
       "  </thead>\n",
       "  <tbody>\n",
       "    <tr>\n",
       "      <th>0</th>\n",
       "      <td>56</td>\n",
       "      <td>52</td>\n",
       "      <td>Premium</td>\n",
       "      <td>1</td>\n",
       "      <td>Curto</td>\n",
       "      <td>75.48</td>\n",
       "      <td>0</td>\n",
       "    </tr>\n",
       "    <tr>\n",
       "      <th>1</th>\n",
       "      <td>69</td>\n",
       "      <td>65</td>\n",
       "      <td>Basico</td>\n",
       "      <td>4</td>\n",
       "      <td>Curto</td>\n",
       "      <td>79.25</td>\n",
       "      <td>0</td>\n",
       "    </tr>\n",
       "    <tr>\n",
       "      <th>2</th>\n",
       "      <td>46</td>\n",
       "      <td>76</td>\n",
       "      <td>Standard</td>\n",
       "      <td>3</td>\n",
       "      <td>Longo</td>\n",
       "      <td>183.56</td>\n",
       "      <td>0</td>\n",
       "    </tr>\n",
       "    <tr>\n",
       "      <th>3</th>\n",
       "      <td>32</td>\n",
       "      <td>42</td>\n",
       "      <td>Basico</td>\n",
       "      <td>2</td>\n",
       "      <td>Longo</td>\n",
       "      <td>162.50</td>\n",
       "      <td>0</td>\n",
       "    </tr>\n",
       "    <tr>\n",
       "      <th>4</th>\n",
       "      <td>60</td>\n",
       "      <td>74</td>\n",
       "      <td>Standard</td>\n",
       "      <td>2</td>\n",
       "      <td>Longo</td>\n",
       "      <td>186.23</td>\n",
       "      <td>1</td>\n",
       "    </tr>\n",
       "  </tbody>\n",
       "</table>\n",
       "</div>"
      ],
      "text/plain": [
       "   Idade  UsoMensal     Plano  SatisfacaoCliente TempoContrato  ValorMensal  \\\n",
       "0     56         52   Premium                  1         Curto        75.48   \n",
       "1     69         65    Basico                  4         Curto        79.25   \n",
       "2     46         76  Standard                  3         Longo       183.56   \n",
       "3     32         42    Basico                  2         Longo       162.50   \n",
       "4     60         74  Standard                  2         Longo       186.23   \n",
       "\n",
       "   Churn  \n",
       "0      0  \n",
       "1      0  \n",
       "2      0  \n",
       "3      0  \n",
       "4      1  "
      ]
     },
     "execution_count": 12,
     "metadata": {},
     "output_type": "execute_result"
    }
   ],
   "source": [
    "df_churn = pd.read_csv('data/dataset.csv')\n",
    "\n",
    "df_churn.head()"
   ]
  },
  {
   "cell_type": "code",
   "execution_count": 13,
   "id": "eac52c35",
   "metadata": {},
   "outputs": [
    {
     "name": "stdout",
     "output_type": "stream",
     "text": [
      "<class 'pandas.core.frame.DataFrame'>\n",
      "RangeIndex: 1000 entries, 0 to 999\n",
      "Data columns (total 7 columns):\n",
      " #   Column             Non-Null Count  Dtype  \n",
      "---  ------             --------------  -----  \n",
      " 0   Idade              1000 non-null   int64  \n",
      " 1   UsoMensal          1000 non-null   int64  \n",
      " 2   Plano              1000 non-null   object \n",
      " 3   SatisfacaoCliente  1000 non-null   int64  \n",
      " 4   TempoContrato      1000 non-null   object \n",
      " 5   ValorMensal        1000 non-null   float64\n",
      " 6   Churn              1000 non-null   int64  \n",
      "dtypes: float64(1), int64(4), object(2)\n",
      "memory usage: 54.8+ KB\n"
     ]
    }
   ],
   "source": [
    "df_churn.info()"
   ]
  },
  {
   "cell_type": "markdown",
   "id": "df907306",
   "metadata": {},
   "source": [
    "## Análise Exploratória\n",
    "\n",
    "Variável target (alvo do estudo).\n",
    "\n",
    "Churn:\n",
    "\n",
    "- 1 --> Classe positiva (houve churn, ou seja, cancelou a assinatura)\n",
    "- 0 --> Classe negativa (não houve churn, ou seja, não cancelou a assinatura)"
   ]
  },
  {
   "cell_type": "code",
   "execution_count": 25,
   "id": "338a1550",
   "metadata": {},
   "outputs": [
    {
     "data": {
      "text/plain": [
       "Index(['Idade', 'UsoMensal', 'Plano', 'SatisfacaoCliente', 'TempoContrato',\n",
       "       'ValorMensal', 'Churn'],\n",
       "      dtype='object')"
      ]
     },
     "execution_count": 25,
     "metadata": {},
     "output_type": "execute_result"
    }
   ],
   "source": [
    "df_churn.columns"
   ]
  },
  {
   "cell_type": "code",
   "execution_count": 27,
   "id": "12d46535",
   "metadata": {},
   "outputs": [],
   "source": [
    "# Análise Exploratória de Dados (EDA)\n",
    "def grafico_numerica(dados, column):\n",
    "    fig, axes = plt.subplots(1, 2)\n",
    "    sns.histplot(dados[column], kde = True, ax = axes[0])\n",
    "    sns.boxplot(x = 'Churn', y = column, data = dados, ax = axes[1])\n",
    "    axes[0].set_title(f'Distribuição de {column}')\n",
    "    axes[1].set_title(f'{column} vs Churn')\n",
    "    plt.tight_layout()\n",
    "    plt.show()\n",
    "\n",
    "def grafico_categorica(dados, column):           \n",
    "    fig, axes = plt.subplots(1, 2)\n",
    "    sns.countplot(x = column, data = dados, ax = axes[0])\n",
    "    sns.countplot(x = column, hue = 'Churn', data = dados, ax = axes[1])\n",
    "    axes[0].set_title(f'Distribuição de {column}')\n",
    "    axes[1].set_title(f'{column} vs Churn')\n",
    "    plt.tight_layout()\n",
    "    plt.show()"
   ]
  },
  {
   "cell_type": "code",
   "execution_count": 99,
   "id": "11ecd72f",
   "metadata": {},
   "outputs": [
    {
     "data": {
      "image/png": "[encoded data removed]",
      "text/plain": [
       "<Figure size 700x350 with 2 Axes>"
      ]
     },
     "metadata": {},
     "output_type": "display_data"
    }
   ],
   "source": [
    "grafico_categorica(df_churn, 'TempoContrato')"
   ]
  },
  {
   "cell_type": "code",
   "execution_count": 41,
   "id": "61f29f3b",
   "metadata": {},
   "outputs": [
    {
     "data": {
      "image/png": "[encoded data removed]",
      "text/plain": [
       "<Figure size 700x350 with 2 Axes>"
      ]
     },
     "metadata": {},
     "output_type": "display_data"
    }
   ],
   "source": [
    "grafico_categorica(df_churn, 'Plano')"
   ]
  },
  {
   "cell_type": "markdown",
   "id": "901af908",
   "metadata": {},
   "source": [
    "Baseado na análise exploratória, nenhuma variáve será removida."
   ]
  },
  {
   "cell_type": "markdown",
   "id": "9974b644",
   "metadata": {},
   "source": [
    "## Divisão em Dados de Treino e Teste"
   ]
  },
  {
   "cell_type": "code",
   "execution_count": 42,
   "id": "d1796a2c",
   "metadata": {},
   "outputs": [],
   "source": [
    "def split_dataset(data, target_column, test_size, random_state = 29):\n",
    "    \"\"\"\n",
    "    Divide o dataset em conjuntos de treino e teste.\n",
    "\n",
    "    Parâmetros:\n",
    "    - data (DataFrame): O DataFrame completo.\n",
    "    - target_column (str): O nome da coluna alvo (target).\n",
    "    - test_size (float): A proporção do conjunto de teste.\n",
    "    - random_state (int): Seed para a geração de números aleatórios (padrão é 29).\n",
    "\n",
    "    Retorna:\n",
    "    - X_train (DataFrame): Conjunto de treino para as variáveis independentes.\n",
    "    - X_test (DataFrame): Conjunto de teste para as variáveis independentes.\n",
    "    - y_train (Series): Conjunto de treino para a variável alvo.\n",
    "    - y_test (Series): Conjunto de teste para a variável alvo.\n",
    "    \"\"\"\n",
    "\n",
    "    # REmove coluna alvo do DataFrame\n",
    "    X = data.drop(target_column, axis = 1)\n",
    "    \n",
    "    # Dados de saída (target)\n",
    "    y = data[target_column]\n",
    "    \n",
    "    # Divisão em treino e teste\n",
    "    X_train, X_test, y_train, y_test = train_test_split(X, \n",
    "                                                        y, \n",
    "                                                        test_size = test_size, \n",
    "                                                        random_state = random_state)\n",
    "\n",
    "    return X_train, X_test, y_train, y_test"
   ]
  },
  {
   "cell_type": "code",
   "execution_count": 102,
   "id": "195e3882",
   "metadata": {},
   "outputs": [
    {
     "data": {
      "text/plain": [
       "((700, 6), (300, 6), (700,), (300,))"
      ]
     },
     "execution_count": 102,
     "metadata": {},
     "output_type": "execute_result"
    }
   ],
   "source": [
    "X_train, X_test, y_train, y_test = split_dataset(df_churn, 'Churn', test_size = 0.3)\n",
    "\n",
    "X_train.shape, X_test.shape, y_train.shape, y_test.shape"
   ]
  },
  {
   "cell_type": "markdown",
   "id": "cd131631",
   "metadata": {},
   "source": [
    "## Pré-processamento dos Dados\n",
    "\n",
    "O pré-processamento, especialmente a aplicação de encoding e a normalização de dados, deve idealmente ser feito **após a divisão do dataset em conjuntos de treino e teste**. Isso evita o vazamento de informações do conjunto de testes para o conjunto de treino, o que pode acontecer se o pré-processamento for feito antes da divisão."
   ]
  },
  {
   "cell_type": "code",
   "execution_count": 45,
   "id": "feebc898",
   "metadata": {},
   "outputs": [
    {
     "data": {
      "text/html": [
       "<div>\n",
       "<style scoped>\n",
       "    .dataframe tbody tr th:only-of-type {\n",
       "        vertical-align: middle;\n",
       "    }\n",
       "\n",
       "    .dataframe tbody tr th {\n",
       "        vertical-align: top;\n",
       "    }\n",
       "\n",
       "    .dataframe thead th {\n",
       "        text-align: right;\n",
       "    }\n",
       "</style>\n",
       "<table border=\"1\" class=\"dataframe\">\n",
       "  <thead>\n",
       "    <tr style=\"text-align: right;\">\n",
       "      <th></th>\n",
       "      <th>Idade</th>\n",
       "      <th>UsoMensal</th>\n",
       "      <th>Plano</th>\n",
       "      <th>SatisfacaoCliente</th>\n",
       "      <th>TempoContrato</th>\n",
       "      <th>ValorMensal</th>\n",
       "      <th>Churn</th>\n",
       "    </tr>\n",
       "  </thead>\n",
       "  <tbody>\n",
       "    <tr>\n",
       "      <th>0</th>\n",
       "      <td>56</td>\n",
       "      <td>52</td>\n",
       "      <td>Premium</td>\n",
       "      <td>1</td>\n",
       "      <td>Curto</td>\n",
       "      <td>75.48</td>\n",
       "      <td>0</td>\n",
       "    </tr>\n",
       "    <tr>\n",
       "      <th>1</th>\n",
       "      <td>69</td>\n",
       "      <td>65</td>\n",
       "      <td>Basico</td>\n",
       "      <td>4</td>\n",
       "      <td>Curto</td>\n",
       "      <td>79.25</td>\n",
       "      <td>0</td>\n",
       "    </tr>\n",
       "    <tr>\n",
       "      <th>2</th>\n",
       "      <td>46</td>\n",
       "      <td>76</td>\n",
       "      <td>Standard</td>\n",
       "      <td>3</td>\n",
       "      <td>Longo</td>\n",
       "      <td>183.56</td>\n",
       "      <td>0</td>\n",
       "    </tr>\n",
       "    <tr>\n",
       "      <th>3</th>\n",
       "      <td>32</td>\n",
       "      <td>42</td>\n",
       "      <td>Basico</td>\n",
       "      <td>2</td>\n",
       "      <td>Longo</td>\n",
       "      <td>162.50</td>\n",
       "      <td>0</td>\n",
       "    </tr>\n",
       "    <tr>\n",
       "      <th>4</th>\n",
       "      <td>60</td>\n",
       "      <td>74</td>\n",
       "      <td>Standard</td>\n",
       "      <td>2</td>\n",
       "      <td>Longo</td>\n",
       "      <td>186.23</td>\n",
       "      <td>1</td>\n",
       "    </tr>\n",
       "  </tbody>\n",
       "</table>\n",
       "</div>"
      ],
      "text/plain": [
       "   Idade  UsoMensal     Plano  SatisfacaoCliente TempoContrato  ValorMensal  \\\n",
       "0     56         52   Premium                  1         Curto        75.48   \n",
       "1     69         65    Basico                  4         Curto        79.25   \n",
       "2     46         76  Standard                  3         Longo       183.56   \n",
       "3     32         42    Basico                  2         Longo       162.50   \n",
       "4     60         74  Standard                  2         Longo       186.23   \n",
       "\n",
       "   Churn  \n",
       "0      0  \n",
       "1      0  \n",
       "2      0  \n",
       "3      0  \n",
       "4      1  "
      ]
     },
     "execution_count": 45,
     "metadata": {},
     "output_type": "execute_result"
    }
   ],
   "source": [
    "df_churn.head()"
   ]
  },
  {
   "cell_type": "code",
   "execution_count": 103,
   "id": "b9827eeb",
   "metadata": {},
   "outputs": [
    {
     "data": {
      "text/plain": [
       "Index(['Plano', 'TempoContrato'], dtype='object')"
      ]
     },
     "execution_count": 103,
     "metadata": {},
     "output_type": "execute_result"
    }
   ],
   "source": [
    "# Selecionano as variáveis categóricas\n",
    "categorical_features = X_train.select_dtypes(include = ['object']).columns\n",
    "categorical_features"
   ]
  },
  {
   "cell_type": "markdown",
   "id": "15bb3570",
   "metadata": {},
   "source": [
    "## One-Hot Encoding\n",
    "\n",
    "O One-Hot Encoding é uma técnica para transformar variáveis categóricas (variáveis com valores em texto ou categorias) em uma forma que um modelo de Machine Learning consiga entender, ou seja, em valores numéricos binários.\n"
   ]
  },
  {
   "cell_type": "code",
   "execution_count": 104,
   "id": "3aa40604",
   "metadata": {},
   "outputs": [],
   "source": [
    "encoder = OneHotEncoder(sparse_output = False)"
   ]
  },
  {
   "cell_type": "code",
   "execution_count": 105,
   "id": "19ae2356",
   "metadata": {},
   "outputs": [
    {
     "data": {
      "text/html": [
       "<div>\n",
       "<style scoped>\n",
       "    .dataframe tbody tr th:only-of-type {\n",
       "        vertical-align: middle;\n",
       "    }\n",
       "\n",
       "    .dataframe tbody tr th {\n",
       "        vertical-align: top;\n",
       "    }\n",
       "\n",
       "    .dataframe thead th {\n",
       "        text-align: right;\n",
       "    }\n",
       "</style>\n",
       "<table border=\"1\" class=\"dataframe\">\n",
       "  <thead>\n",
       "    <tr style=\"text-align: right;\">\n",
       "      <th></th>\n",
       "      <th>0</th>\n",
       "      <th>1</th>\n",
       "      <th>2</th>\n",
       "      <th>3</th>\n",
       "      <th>4</th>\n",
       "      <th>5</th>\n",
       "    </tr>\n",
       "  </thead>\n",
       "  <tbody>\n",
       "    <tr>\n",
       "      <th>0</th>\n",
       "      <td>0.0</td>\n",
       "      <td>1.0</td>\n",
       "      <td>0.0</td>\n",
       "      <td>0.0</td>\n",
       "      <td>1.0</td>\n",
       "      <td>0.0</td>\n",
       "    </tr>\n",
       "    <tr>\n",
       "      <th>1</th>\n",
       "      <td>1.0</td>\n",
       "      <td>0.0</td>\n",
       "      <td>0.0</td>\n",
       "      <td>0.0</td>\n",
       "      <td>1.0</td>\n",
       "      <td>0.0</td>\n",
       "    </tr>\n",
       "  </tbody>\n",
       "</table>\n",
       "</div>"
      ],
      "text/plain": [
       "     0    1    2    3    4    5\n",
       "0  0.0  1.0  0.0  0.0  1.0  0.0\n",
       "1  1.0  0.0  0.0  0.0  1.0  0.0"
      ]
     },
     "execution_count": 105,
     "metadata": {},
     "output_type": "execute_result"
    }
   ],
   "source": [
    "X_train_encoded = pd.DataFrame(encoder.fit_transform(X_train[categorical_features]))\n",
    "X_test_encoded = pd.DataFrame(encoder.transform(X_test[categorical_features]))\n",
    "\n",
    "X_train_encoded.head(2)"
   ]
  },
  {
   "cell_type": "code",
   "execution_count": 106,
   "id": "6bbf74cb",
   "metadata": {},
   "outputs": [
    {
     "data": {
      "text/html": [
       "<div>\n",
       "<style scoped>\n",
       "    .dataframe tbody tr th:only-of-type {\n",
       "        vertical-align: middle;\n",
       "    }\n",
       "\n",
       "    .dataframe tbody tr th {\n",
       "        vertical-align: top;\n",
       "    }\n",
       "\n",
       "    .dataframe thead th {\n",
       "        text-align: right;\n",
       "    }\n",
       "</style>\n",
       "<table border=\"1\" class=\"dataframe\">\n",
       "  <thead>\n",
       "    <tr style=\"text-align: right;\">\n",
       "      <th></th>\n",
       "      <th>Idade</th>\n",
       "      <th>UsoMensal</th>\n",
       "      <th>SatisfacaoCliente</th>\n",
       "      <th>ValorMensal</th>\n",
       "      <th>Plano_Basico</th>\n",
       "      <th>Plano_Premium</th>\n",
       "      <th>Plano_Standard</th>\n",
       "      <th>TempoContrato_Curto</th>\n",
       "      <th>TempoContrato_Longo</th>\n",
       "      <th>TempoContrato_Medio</th>\n",
       "    </tr>\n",
       "  </thead>\n",
       "  <tbody>\n",
       "    <tr>\n",
       "      <th>0</th>\n",
       "      <td>56</td>\n",
       "      <td>3</td>\n",
       "      <td>4</td>\n",
       "      <td>153.36</td>\n",
       "      <td>0.0</td>\n",
       "      <td>1.0</td>\n",
       "      <td>0.0</td>\n",
       "      <td>0.0</td>\n",
       "      <td>1.0</td>\n",
       "      <td>0.0</td>\n",
       "    </tr>\n",
       "    <tr>\n",
       "      <th>1</th>\n",
       "      <td>45</td>\n",
       "      <td>25</td>\n",
       "      <td>5</td>\n",
       "      <td>136.68</td>\n",
       "      <td>1.0</td>\n",
       "      <td>0.0</td>\n",
       "      <td>0.0</td>\n",
       "      <td>0.0</td>\n",
       "      <td>1.0</td>\n",
       "      <td>0.0</td>\n",
       "    </tr>\n",
       "    <tr>\n",
       "      <th>2</th>\n",
       "      <td>66</td>\n",
       "      <td>58</td>\n",
       "      <td>1</td>\n",
       "      <td>150.96</td>\n",
       "      <td>0.0</td>\n",
       "      <td>0.0</td>\n",
       "      <td>1.0</td>\n",
       "      <td>0.0</td>\n",
       "      <td>0.0</td>\n",
       "      <td>1.0</td>\n",
       "    </tr>\n",
       "    <tr>\n",
       "      <th>3</th>\n",
       "      <td>47</td>\n",
       "      <td>55</td>\n",
       "      <td>1</td>\n",
       "      <td>131.21</td>\n",
       "      <td>1.0</td>\n",
       "      <td>0.0</td>\n",
       "      <td>0.0</td>\n",
       "      <td>0.0</td>\n",
       "      <td>0.0</td>\n",
       "      <td>1.0</td>\n",
       "    </tr>\n",
       "    <tr>\n",
       "      <th>4</th>\n",
       "      <td>48</td>\n",
       "      <td>22</td>\n",
       "      <td>1</td>\n",
       "      <td>151.35</td>\n",
       "      <td>0.0</td>\n",
       "      <td>0.0</td>\n",
       "      <td>1.0</td>\n",
       "      <td>1.0</td>\n",
       "      <td>0.0</td>\n",
       "      <td>0.0</td>\n",
       "    </tr>\n",
       "  </tbody>\n",
       "</table>\n",
       "</div>"
      ],
      "text/plain": [
       "   Idade  UsoMensal  SatisfacaoCliente  ValorMensal  Plano_Basico  \\\n",
       "0     56          3                  4       153.36           0.0   \n",
       "1     45         25                  5       136.68           1.0   \n",
       "2     66         58                  1       150.96           0.0   \n",
       "3     47         55                  1       131.21           1.0   \n",
       "4     48         22                  1       151.35           0.0   \n",
       "\n",
       "   Plano_Premium  Plano_Standard  TempoContrato_Curto  TempoContrato_Longo  \\\n",
       "0            1.0             0.0                  0.0                  1.0   \n",
       "1            0.0             0.0                  0.0                  1.0   \n",
       "2            0.0             1.0                  0.0                  0.0   \n",
       "3            0.0             0.0                  0.0                  0.0   \n",
       "4            0.0             1.0                  1.0                  0.0   \n",
       "\n",
       "   TempoContrato_Medio  \n",
       "0                  0.0  \n",
       "1                  0.0  \n",
       "2                  1.0  \n",
       "3                  1.0  \n",
       "4                  0.0  "
      ]
     },
     "execution_count": 106,
     "metadata": {},
     "output_type": "execute_result"
    }
   ],
   "source": [
    "X_train_encoded.columns = encoder.get_feature_names_out(categorical_features)\n",
    "X_test_encoded.columns = encoder.get_feature_names_out(categorical_features)\n",
    "\n",
    "# Removendo as colunas categóricas originais e adicionando as codificadas\n",
    "X_train_preprocessed = X_train.drop(categorical_features, axis = 1).reset_index(drop = True)\n",
    "X_train_preprocessed = pd.concat([X_train_preprocessed, X_train_encoded], axis = 1)\n",
    "\n",
    "X_test_preprocessed = X_test.drop(categorical_features, axis = 1).reset_index(drop = True)\n",
    "X_test_preprocessed = pd.concat([X_test_preprocessed, X_test_encoded], axis = 1)\n",
    "\n",
    "X_train_preprocessed.head()\n"
   ]
  },
  {
   "cell_type": "markdown",
   "id": "cb960dac",
   "metadata": {},
   "source": [
    "> Toda e qualquer transformação nos dados de treino, deve ser aplicada nos dados de teste."
   ]
  },
  {
   "cell_type": "markdown",
   "id": "398b33ec",
   "metadata": {},
   "source": [
    "## StandardScaler\n",
    "\n",
    "O StandardScaler é uma ferramenta do scikit-learn que padroniza os dados, ou seja, transforma as variáveis numéricas para que tenham:\n",
    "Média igual a 0 e Desvio padrão igual a 1.\n",
    "Essa padronização é chamada de **normalização Z-score**.\n"
   ]
  },
  {
   "cell_type": "code",
   "execution_count": 100,
   "id": "1280bade",
   "metadata": {},
   "outputs": [],
   "source": [
    "# Variáveis numéricas\n",
    "numeric_cols = X_train_preprocessed.select_dtypes(include = ['int64', 'float64']).columns\n",
    "\n",
    "# Criando o StandardScaler\n",
    "scaler = StandardScaler()"
   ]
  },
  {
   "cell_type": "code",
   "execution_count": 101,
   "id": "26c5da35",
   "metadata": {},
   "outputs": [
    {
     "data": {
      "text/html": [
       "<div>\n",
       "<style scoped>\n",
       "    .dataframe tbody tr th:only-of-type {\n",
       "        vertical-align: middle;\n",
       "    }\n",
       "\n",
       "    .dataframe tbody tr th {\n",
       "        vertical-align: top;\n",
       "    }\n",
       "\n",
       "    .dataframe thead th {\n",
       "        text-align: right;\n",
       "    }\n",
       "</style>\n",
       "<table border=\"1\" class=\"dataframe\">\n",
       "  <thead>\n",
       "    <tr style=\"text-align: right;\">\n",
       "      <th></th>\n",
       "      <th>Idade</th>\n",
       "      <th>UsoMensal</th>\n",
       "      <th>SatisfacaoCliente</th>\n",
       "      <th>ValorMensal</th>\n",
       "      <th>Plano_Basico</th>\n",
       "      <th>Plano_Premium</th>\n",
       "      <th>Plano_Standard</th>\n",
       "      <th>TempoContrato_Curto</th>\n",
       "      <th>TempoContrato_Longo</th>\n",
       "      <th>TempoContrato_Medio</th>\n",
       "    </tr>\n",
       "  </thead>\n",
       "  <tbody>\n",
       "    <tr>\n",
       "      <th>0</th>\n",
       "      <td>0.587564</td>\n",
       "      <td>-1.600748</td>\n",
       "      <td>0.711697</td>\n",
       "      <td>0.702722</td>\n",
       "      <td>-0.650203</td>\n",
       "      <td>1.367060</td>\n",
       "      <td>-0.740724</td>\n",
       "      <td>-0.681495</td>\n",
       "      <td>1.354256</td>\n",
       "      <td>-0.701810</td>\n",
       "    </tr>\n",
       "    <tr>\n",
       "      <th>1</th>\n",
       "      <td>-0.087696</td>\n",
       "      <td>-0.845909</td>\n",
       "      <td>1.423394</td>\n",
       "      <td>0.312207</td>\n",
       "      <td>1.537981</td>\n",
       "      <td>-0.731497</td>\n",
       "      <td>-0.740724</td>\n",
       "      <td>-0.681495</td>\n",
       "      <td>1.354256</td>\n",
       "      <td>-0.701810</td>\n",
       "    </tr>\n",
       "    <tr>\n",
       "      <th>2</th>\n",
       "      <td>1.201436</td>\n",
       "      <td>0.286348</td>\n",
       "      <td>-1.423394</td>\n",
       "      <td>0.646533</td>\n",
       "      <td>-0.650203</td>\n",
       "      <td>-0.731497</td>\n",
       "      <td>1.350030</td>\n",
       "      <td>-0.681495</td>\n",
       "      <td>-0.738413</td>\n",
       "      <td>1.424887</td>\n",
       "    </tr>\n",
       "    <tr>\n",
       "      <th>3</th>\n",
       "      <td>0.035078</td>\n",
       "      <td>0.183416</td>\n",
       "      <td>-1.423394</td>\n",
       "      <td>0.184143</td>\n",
       "      <td>1.537981</td>\n",
       "      <td>-0.731497</td>\n",
       "      <td>-0.740724</td>\n",
       "      <td>-0.681495</td>\n",
       "      <td>-0.738413</td>\n",
       "      <td>1.424887</td>\n",
       "    </tr>\n",
       "    <tr>\n",
       "      <th>4</th>\n",
       "      <td>0.096466</td>\n",
       "      <td>-0.948842</td>\n",
       "      <td>-1.423394</td>\n",
       "      <td>0.655663</td>\n",
       "      <td>-0.650203</td>\n",
       "      <td>-0.731497</td>\n",
       "      <td>1.350030</td>\n",
       "      <td>1.467363</td>\n",
       "      <td>-0.738413</td>\n",
       "      <td>-0.701810</td>\n",
       "    </tr>\n",
       "  </tbody>\n",
       "</table>\n",
       "</div>"
      ],
      "text/plain": [
       "      Idade  UsoMensal  SatisfacaoCliente  ValorMensal  Plano_Basico  \\\n",
       "0  0.587564  -1.600748           0.711697     0.702722     -0.650203   \n",
       "1 -0.087696  -0.845909           1.423394     0.312207      1.537981   \n",
       "2  1.201436   0.286348          -1.423394     0.646533     -0.650203   \n",
       "3  0.035078   0.183416          -1.423394     0.184143      1.537981   \n",
       "4  0.096466  -0.948842          -1.423394     0.655663     -0.650203   \n",
       "\n",
       "   Plano_Premium  Plano_Standard  TempoContrato_Curto  TempoContrato_Longo  \\\n",
       "0       1.367060       -0.740724            -0.681495             1.354256   \n",
       "1      -0.731497       -0.740724            -0.681495             1.354256   \n",
       "2      -0.731497        1.350030            -0.681495            -0.738413   \n",
       "3      -0.731497       -0.740724            -0.681495            -0.738413   \n",
       "4      -0.731497        1.350030             1.467363            -0.738413   \n",
       "\n",
       "   TempoContrato_Medio  \n",
       "0            -0.701810  \n",
       "1            -0.701810  \n",
       "2             1.424887  \n",
       "3             1.424887  \n",
       "4            -0.701810  "
      ]
     },
     "execution_count": 101,
     "metadata": {},
     "output_type": "execute_result"
    }
   ],
   "source": [
    "# Aplicando o StandardScaler às variáveis numéricas\n",
    "X_train_preprocessed[numeric_cols] = scaler.fit_transform(X_train_preprocessed[numeric_cols])\n",
    "X_test_preprocessed[numeric_cols] = scaler.transform(X_test_preprocessed[numeric_cols])\n",
    "\n",
    "X_train_preprocessed.head()"
   ]
  },
  {
   "cell_type": "markdown",
   "id": "c6ff0b1f",
   "metadata": {},
   "source": [
    "## Modelagem"
   ]
  },
  {
   "cell_type": "code",
   "execution_count": 107,
   "id": "0fa0ce66",
   "metadata": {},
   "outputs": [],
   "source": [
    "modelo_v1 = RandomForestClassifier(random_state = 29)"
   ]
  },
  {
   "cell_type": "code",
   "execution_count": 119,
   "id": "acea56ce",
   "metadata": {},
   "outputs": [],
   "source": [
    "modelo_v1.fit(X_train_preprocessed, y_train)\n",
    "y_pred = modelo_v1.predict(X_test_preprocessed)"
   ]
  },
  {
   "cell_type": "code",
   "execution_count": 122,
   "id": "cdaa5bb9",
   "metadata": {},
   "outputs": [
    {
     "data": {
      "text/plain": [
       "0.7966666666666666"
      ]
     },
     "execution_count": 122,
     "metadata": {},
     "output_type": "execute_result"
    }
   ],
   "source": [
    "accuracy =  accuracy_score(y_test, y_pred)\n",
    "classification_rep = classification_report(y_test, y_pred)\n",
    "\n",
    "accuracy"
   ]
  },
  {
   "cell_type": "code",
   "execution_count": 123,
   "id": "2c5f936a",
   "metadata": {},
   "outputs": [
    {
     "name": "stdout",
     "output_type": "stream",
     "text": [
      "              precision    recall  f1-score   support\n",
      "\n",
      "           0       0.86      0.81      0.84       194\n",
      "           1       0.69      0.76      0.73       106\n",
      "\n",
      "    accuracy                           0.80       300\n",
      "   macro avg       0.78      0.79      0.78       300\n",
      "weighted avg       0.80      0.80      0.80       300\n",
      "\n"
     ]
    }
   ],
   "source": [
    "print(classification_rep)"
   ]
  }
 ],
 "metadata": {
  "kernelspec": {
   "display_name": "Python 3",
   "language": "python",
   "name": "python3"
  },
  "language_info": {
   "codemirror_mode": {
    "name": "ipython",
    "version": 3
   },
   "file_extension": ".py",
   "mimetype": "text/x-python",
   "name": "python",
   "nbconvert_exporter": "python",
   "pygments_lexer": "ipython3",
   "version": "3.10.12"
  }
 },
 "nbformat": 4,
 "nbformat_minor": 5
}
